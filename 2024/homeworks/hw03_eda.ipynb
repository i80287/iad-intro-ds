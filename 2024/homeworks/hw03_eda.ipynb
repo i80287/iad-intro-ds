{
 "cells": [
  {
   "cell_type": "markdown",
   "metadata": {},
   "source": [
    "## Домашнее задание 3 (10 баллов)\n",
    "\n",
    "## НИУ ВШЭ, 2023-24 учебный год"
   ]
  },
  {
   "cell_type": "markdown",
   "metadata": {},
   "source": [
    "## О задании"
   ]
  },
  {
   "cell_type": "markdown",
   "metadata": {},
   "source": [
    "В этом домашнем задании вы получите опыт подготовки данных и EDA (Exploratory Data Analysis), приблизившись к реальной работе с данными с помощью уже знакомых вам инструментов: numpy, pandas, matplotlib и seaborn, а также познакомитесь с plotly.\n",
    "\n",
    "EDA - важный этап работы с данными. Именно в процессе EDA вы можете выяснить особенности датасета, найти зависимости в данных, протестировать гипотезы о взаимосвязях признаков и целевой переменной. В реальности вы сами будете определять, что и как проверять в рамках EDA, однако в данной работе гипотезы будут выдвинуты за вас автором задания. Также и типы графиков, которые вы будете использовать уже предопределены за вас. Выполняя задания по визуализациям, обращайте внимание на референсные картинки, которые были оставлены автором. Они показывают, какой примерно результат от вас ожидается.\n",
    "\n",
    "Это задание будет включать в себя построение некоторого количества графиков, потому вот основные правила, в соответствии с которыми графики должны быть оформлены:\n",
    "1. Любой график всегда имеет название.\n",
    "2. Оси у графика подписаны (исключение - график делит название оси с соседним).\n",
    "3. Подписи делаются на одном языке (либо английский, либо русский), но не на их смеси.\n",
    "4. Если вы выводите несколько графиков, то они размещаются в рамках одного объекта matplotlib.pyplot.figure. Вы не выводите графики последовательно, а смотрите, как их разместить сразу все за раз.\n",
    "5. Отдельные графики (если графиков на картинке больше 1) также имеют свои названия.\n",
    "6. Если на графике есть несколько различных объектов, то для их различения используется легенда. Помещайте легенду в место, где она в наименьшей мере мешает восприятию самого графика.\n",
    "7. Если есть легенда, то она должна иметь навание, а также ее содержание должно быть адекватными (пожалейте проверяющих, они не хотят разбирать, а к чему относится зеленая линия, которая на легенде помечена меткой \"0\").\n",
    "8. Используйте цветовые гаммы, чтобы объекты на графиках отличались цветом.\n",
    "9. Текст на визуализации должен быть читаем. Если вы вывели названия категорий в качестве подписей на оси Х, а эти названия наезжают друг на друга, то вам нужно что-то с этим сделать. Нечитаемый или плохо читаемый (очень маленький, невероятно огромный) текст ведет к снижению баллов.\n",
    "\n",
    "*Тут правило про плагиат, которое вам итак известно - обнуляются все работы, которые подозреваются в некорректных заимствованиях!* Помните, что просто скопировать код из интернета и указать источник - это не ваша самостоятельная работа, а автора кода. Измените хоть что-нибудь в коде."
   ]
  },
  {
   "cell_type": "markdown",
   "metadata": {},
   "source": [
    "## О данных"
   ]
  },
  {
   "cell_type": "markdown",
   "metadata": {},
   "source": [
    "Будем работать с [датасетом физической активности](https://www.kaggle.com/datasets/uciml/human-activity-recognition-with-smartphones). \n",
    "\n",
    "В этом датасете собраны данные 30 человек, выполняющих различные действия со смартфоном на поясе. Данные записывались с помощью датчиков (акселерометра и гироскопа) в этом смартфоне. Были зафиксированы: \"3-осевое линейное ускорение\" (_tAcc-XYZ_) и \"3-осевая угловая скорость\" (_tGyro-XYZ_).\n",
    "\n",
    "1. Все сигналы отсортированы по времени, пропущены через фильтр шума.\n",
    "2. Все наблюдения были разделены на окна по 128 сигналов в каждом, причем окна пересекаются на 50% (грубо говоря, с 1 по 128 сигнал в 1 окно, с 64 до 192 сигнала - во 2 окно и так далее).\n",
    "3. Линейное ускорение было разделено на две составляющие (с помощью низкочастотного фильтра): ускорение самого тела, а также гравитационная составляющая. Будем называть их ускорением тела и гравитационным ускорением.\n",
    "4. К получившимся окнам применяли различные функции для получения следующих показателей:\n",
    "    - max\n",
    "    - min\n",
    "    - mad (median)\n",
    "    - mean\n",
    "    - std\n",
    "    - skewness (коэффициент асимметричности распределения признака в окне)\n",
    "    - etc. (подробнее, на сколько это возможно, указано на [страничке датасета](https://archive.ics.uci.edu/dataset/240/human+activity+recognition+using+smartphones))\n",
    "5. Величина (magnitude) сигнала также определялась через евклидову норму всех значений из вектора для одного окна.\n",
    "6. К окнам было применено преобразование Фурье, чтобы получить частоты. Из частот были извелченыте же показатели, плюс новые:\n",
    "    - bandsEnergy (энергия частотного интервала)\n",
    "7. Были посчитаны углы между векторами соответствующих окон.\n",
    "8. Для ускорений были посчитаны производные - рывки, к которым применялись те же функции.\n",
    "\n",
    "Итог: в датасете каждый признак - это какая-то операция над вектором из 128 чисел, которые соответствуют замерам определенного человека занятого какой-то активностью на протяжении 2.56 секунд.\n",
    "\n",
    "Как читать названия признаков? Примеры:\n",
    "- `tBodyAccMag-mean()` - это вектор ускорений тела (без гравитационной составляющей этого ускорения), из которого взяли евклидову норму, а затем усреднили, чтобы получить скаляр\n",
    "- `fBodyAcc-bandsEnergy()-1,8.2` - это вектор ускорения тела, к которому применили преобразование Фурье, преобразовав его в вектор частот, а затем посчитали на этом векторе энергию данного частотного интервала в определенном диапазоне частот (в данном случае 1 - 8.2)\n",
    "- `angle(X,gravityMean)` - это угол между осью Х и вектором усредненных значений гравитационного ускорения из соответствующего окна\n",
    "\n",
    "Вероятно, сначала покажется сложным, но мы разберемся с некоторыми признаками в отдельности и вы сможете понять их смысл, уже исходя из фактических соотношений."
   ]
  },
  {
   "cell_type": "markdown",
   "metadata": {},
   "source": [
    "## Предобработка данных"
   ]
  },
  {
   "cell_type": "code",
   "execution_count": 177,
   "metadata": {},
   "outputs": [],
   "source": [
    "import pandas as pd\n",
    "import numpy as np\n",
    "import matplotlib.pyplot as plt\n",
    "import seaborn as sns\n",
    "\n",
    "import requests\n",
    "import zipfile\n",
    "import io\n",
    "\n",
    "import warnings\n",
    "warnings.filterwarnings(\"ignore\")"
   ]
  },
  {
   "cell_type": "code",
   "execution_count": 178,
   "metadata": {},
   "outputs": [],
   "source": [
    "# Download archive locally\n",
    "url = r\"https://github.com/i80287/__datasets_for_course/raw/main/HumanActivityRecognitionWithSmartphones.zip\"\n",
    "r = requests.get(url)\n",
    "assert r.ok\n",
    "zipfile.ZipFile(io.BytesIO(r.content)).extractall(\".\")"
   ]
  },
  {
   "cell_type": "code",
   "execution_count": 179,
   "metadata": {},
   "outputs": [],
   "source": [
    "train = pd.read_csv('train.csv')\n",
    "test = pd.read_csv(\"test.csv\")"
   ]
  },
  {
   "cell_type": "code",
   "execution_count": 180,
   "metadata": {},
   "outputs": [
    {
     "data": {
      "text/plain": [
       "(7352, 563)"
      ]
     },
     "execution_count": 180,
     "metadata": {},
     "output_type": "execute_result"
    }
   ],
   "source": [
    "train.shape"
   ]
  },
  {
   "cell_type": "markdown",
   "metadata": {},
   "source": [
    "В датасете 563 признака, включая целевую переменную. Столько признаков нам не нужно. Мы за вас сделали подвыборку признаков для удобства работы с ними."
   ]
  },
  {
   "cell_type": "code",
   "execution_count": 181,
   "metadata": {},
   "outputs": [],
   "source": [
    "cols_subset = [\n",
    "    'tBodyAccMag-mean()',  # усредненная величина ускорения тела\n",
    "    'tBodyGyroJerk-mad()-X',  # медианная величина рывка тела по оси Х\n",
    "    'tGravityAcc-min()-X',  # минимум гравитационной составляющей ускорения по оси Х\n",
    "    'tBodyAcc-max()-X',  # максимальная величина ускорения тела по оси Х\n",
    "    'fBodyAcc-bandsEnergy()-1,8.2',  # энергия ускорения тела в интервале частоты\n",
    "    'angle(X,gravityMean)',  # угол между осью Х и усредненной гравитационной составляющей ускорения\n",
    "    'angle(Y,gravityMean)',  # угол между осью Y и усредненной гравитационной составляющей ускорения\n",
    "    'angle(Z,gravityMean)',  # угол между осью Z и усредненной гравитационной составляющей ускорения,\n",
    "    'fBodyAcc-skewness()-X',  # асимметричность частоты ускорения тела по оси Х\n",
    "    'subject',  # номер испытуемого\n",
    "    'Activity',  # название вида деятельности (целевая переменная)\n",
    "]"
   ]
  },
  {
   "cell_type": "code",
   "execution_count": 182,
   "metadata": {},
   "outputs": [],
   "source": [
    "train = train[cols_subset]\n",
    "test = test[cols_subset]"
   ]
  },
  {
   "cell_type": "markdown",
   "metadata": {},
   "source": [
    "### Задание 1 (0.5 балла)\n",
    "\n",
    "Посмотрите на пропуски и дубли в данных train и test. Есть ли они? Если есть, напишите, с чем это может быть связано? Если нет, то просто напишите, что пропусков и/или дублей нет."
   ]
  },
  {
   "cell_type": "code",
   "execution_count": 183,
   "metadata": {},
   "outputs": [
    {
     "name": "stdout",
     "output_type": "stream",
     "text": [
      "Number of empty values in the train set: 0\n",
      "Number of empty values in the test set: 0\n"
     ]
    }
   ],
   "source": [
    "print(\"Number of empty values in the train set: {}\\n\"\n",
    "      \"Number of empty values in the test set: {}\".format(\n",
    "      train.isna().sum().sum(), test.isna().sum().sum()))"
   ]
  },
  {
   "cell_type": "code",
   "execution_count": 184,
   "metadata": {},
   "outputs": [
    {
     "name": "stdout",
     "output_type": "stream",
     "text": [
      "Train set has duplicate rows: False\n",
      "Test set has duplicate rows: False\n"
     ]
    }
   ],
   "source": [
    "print(\"Train set has duplicate rows: {}\\n\"\n",
    "      \"Test set has duplicate rows: {}\".format(\n",
    "    len(train.drop_duplicates()) != len(train),\n",
    "    len(test.drop_duplicates()) != len(test)))"
   ]
  },
  {
   "cell_type": "markdown",
   "metadata": {},
   "source": [
    "### Задание 2 (0.5 балла)\n",
    "\n",
    "Выведите основные статистики данных: среднее, медиана, перцентили (0.25, 0.5, 0.75), минимум, максимум, стандартное отклонение. Посмотрите на таблицу и напишите, видите ли вы в ней что-нибудь интересное."
   ]
  },
  {
   "cell_type": "code",
   "execution_count": 185,
   "metadata": {},
   "outputs": [
    {
     "data": {
      "text/html": [
       "<div>\n",
       "<style scoped>\n",
       "    .dataframe tbody tr th:only-of-type {\n",
       "        vertical-align: middle;\n",
       "    }\n",
       "\n",
       "    .dataframe tbody tr th {\n",
       "        vertical-align: top;\n",
       "    }\n",
       "\n",
       "    .dataframe thead th {\n",
       "        text-align: right;\n",
       "    }\n",
       "</style>\n",
       "<table border=\"1\" class=\"dataframe\">\n",
       "  <thead>\n",
       "    <tr style=\"text-align: right;\">\n",
       "      <th></th>\n",
       "      <th>tBodyAccMag-mean()</th>\n",
       "      <th>tBodyGyroJerk-mad()-X</th>\n",
       "      <th>tGravityAcc-min()-X</th>\n",
       "      <th>tBodyAcc-max()-X</th>\n",
       "      <th>fBodyAcc-bandsEnergy()-1,8.2</th>\n",
       "      <th>angle(X,gravityMean)</th>\n",
       "      <th>angle(Y,gravityMean)</th>\n",
       "      <th>angle(Z,gravityMean)</th>\n",
       "      <th>fBodyAcc-skewness()-X</th>\n",
       "      <th>subject</th>\n",
       "    </tr>\n",
       "  </thead>\n",
       "  <tbody>\n",
       "    <tr>\n",
       "      <th>count</th>\n",
       "      <td>7352.000000</td>\n",
       "      <td>7352.000000</td>\n",
       "      <td>7352.000000</td>\n",
       "      <td>7352.000000</td>\n",
       "      <td>7352.000000</td>\n",
       "      <td>7352.000000</td>\n",
       "      <td>7352.000000</td>\n",
       "      <td>7352.000000</td>\n",
       "      <td>7352.000000</td>\n",
       "      <td>7352.000000</td>\n",
       "    </tr>\n",
       "    <tr>\n",
       "      <th>mean</th>\n",
       "      <td>-0.543884</td>\n",
       "      <td>-0.727735</td>\n",
       "      <td>0.678505</td>\n",
       "      <td>-0.468604</td>\n",
       "      <td>-0.847963</td>\n",
       "      <td>-0.489547</td>\n",
       "      <td>0.058593</td>\n",
       "      <td>-0.056515</td>\n",
       "      <td>-0.128562</td>\n",
       "      <td>17.413085</td>\n",
       "    </tr>\n",
       "    <tr>\n",
       "      <th>std</th>\n",
       "      <td>0.477653</td>\n",
       "      <td>0.315832</td>\n",
       "      <td>0.508656</td>\n",
       "      <td>0.544547</td>\n",
       "      <td>0.233633</td>\n",
       "      <td>0.511807</td>\n",
       "      <td>0.297480</td>\n",
       "      <td>0.279122</td>\n",
       "      <td>0.403686</td>\n",
       "      <td>8.975143</td>\n",
       "    </tr>\n",
       "    <tr>\n",
       "      <th>min</th>\n",
       "      <td>-1.000000</td>\n",
       "      <td>-0.999889</td>\n",
       "      <td>-1.000000</td>\n",
       "      <td>-1.000000</td>\n",
       "      <td>-1.000000</td>\n",
       "      <td>-1.000000</td>\n",
       "      <td>-1.000000</td>\n",
       "      <td>-1.000000</td>\n",
       "      <td>-0.931208</td>\n",
       "      <td>1.000000</td>\n",
       "    </tr>\n",
       "    <tr>\n",
       "      <th>25%</th>\n",
       "      <td>-0.983282</td>\n",
       "      <td>-0.991595</td>\n",
       "      <td>0.804270</td>\n",
       "      <td>-0.936219</td>\n",
       "      <td>-0.999480</td>\n",
       "      <td>-0.812065</td>\n",
       "      <td>-0.017885</td>\n",
       "      <td>-0.143414</td>\n",
       "      <td>-0.486841</td>\n",
       "      <td>8.000000</td>\n",
       "    </tr>\n",
       "    <tr>\n",
       "      <th>50%</th>\n",
       "      <td>-0.883371</td>\n",
       "      <td>-0.950268</td>\n",
       "      <td>0.926693</td>\n",
       "      <td>-0.881637</td>\n",
       "      <td>-0.986582</td>\n",
       "      <td>-0.709417</td>\n",
       "      <td>0.182071</td>\n",
       "      <td>0.003181</td>\n",
       "      <td>-0.163271</td>\n",
       "      <td>19.000000</td>\n",
       "    </tr>\n",
       "    <tr>\n",
       "      <th>75%</th>\n",
       "      <td>-0.106892</td>\n",
       "      <td>-0.474625</td>\n",
       "      <td>0.965095</td>\n",
       "      <td>-0.017129</td>\n",
       "      <td>-0.764508</td>\n",
       "      <td>-0.509079</td>\n",
       "      <td>0.248353</td>\n",
       "      <td>0.107659</td>\n",
       "      <td>0.155112</td>\n",
       "      <td>26.000000</td>\n",
       "    </tr>\n",
       "    <tr>\n",
       "      <th>max</th>\n",
       "      <td>1.000000</td>\n",
       "      <td>1.000000</td>\n",
       "      <td>1.000000</td>\n",
       "      <td>1.000000</td>\n",
       "      <td>1.000000</td>\n",
       "      <td>1.000000</td>\n",
       "      <td>0.478157</td>\n",
       "      <td>1.000000</td>\n",
       "      <td>1.000000</td>\n",
       "      <td>30.000000</td>\n",
       "    </tr>\n",
       "  </tbody>\n",
       "</table>\n",
       "</div>"
      ],
      "text/plain": [
       "       tBodyAccMag-mean()  tBodyGyroJerk-mad()-X  tGravityAcc-min()-X  \\\n",
       "count         7352.000000            7352.000000          7352.000000   \n",
       "mean            -0.543884              -0.727735             0.678505   \n",
       "std              0.477653               0.315832             0.508656   \n",
       "min             -1.000000              -0.999889            -1.000000   \n",
       "25%             -0.983282              -0.991595             0.804270   \n",
       "50%             -0.883371              -0.950268             0.926693   \n",
       "75%             -0.106892              -0.474625             0.965095   \n",
       "max              1.000000               1.000000             1.000000   \n",
       "\n",
       "       tBodyAcc-max()-X  fBodyAcc-bandsEnergy()-1,8.2  angle(X,gravityMean)  \\\n",
       "count       7352.000000                   7352.000000           7352.000000   \n",
       "mean          -0.468604                     -0.847963             -0.489547   \n",
       "std            0.544547                      0.233633              0.511807   \n",
       "min           -1.000000                     -1.000000             -1.000000   \n",
       "25%           -0.936219                     -0.999480             -0.812065   \n",
       "50%           -0.881637                     -0.986582             -0.709417   \n",
       "75%           -0.017129                     -0.764508             -0.509079   \n",
       "max            1.000000                      1.000000              1.000000   \n",
       "\n",
       "       angle(Y,gravityMean)  angle(Z,gravityMean)  fBodyAcc-skewness()-X  \\\n",
       "count           7352.000000           7352.000000            7352.000000   \n",
       "mean               0.058593             -0.056515              -0.128562   \n",
       "std                0.297480              0.279122               0.403686   \n",
       "min               -1.000000             -1.000000              -0.931208   \n",
       "25%               -0.017885             -0.143414              -0.486841   \n",
       "50%                0.182071              0.003181              -0.163271   \n",
       "75%                0.248353              0.107659               0.155112   \n",
       "max                0.478157              1.000000               1.000000   \n",
       "\n",
       "           subject  \n",
       "count  7352.000000  \n",
       "mean     17.413085  \n",
       "std       8.975143  \n",
       "min       1.000000  \n",
       "25%       8.000000  \n",
       "50%      19.000000  \n",
       "75%      26.000000  \n",
       "max      30.000000  "
      ]
     },
     "execution_count": 185,
     "metadata": {},
     "output_type": "execute_result"
    }
   ],
   "source": [
    "train.describe()"
   ]
  },
  {
   "cell_type": "code",
   "execution_count": 186,
   "metadata": {},
   "outputs": [
    {
     "data": {
      "text/html": [
       "<div>\n",
       "<style scoped>\n",
       "    .dataframe tbody tr th:only-of-type {\n",
       "        vertical-align: middle;\n",
       "    }\n",
       "\n",
       "    .dataframe tbody tr th {\n",
       "        vertical-align: top;\n",
       "    }\n",
       "\n",
       "    .dataframe thead th {\n",
       "        text-align: right;\n",
       "    }\n",
       "</style>\n",
       "<table border=\"1\" class=\"dataframe\">\n",
       "  <thead>\n",
       "    <tr style=\"text-align: right;\">\n",
       "      <th></th>\n",
       "      <th>tBodyAccMag-mean()</th>\n",
       "      <th>tBodyGyroJerk-mad()-X</th>\n",
       "      <th>tGravityAcc-min()-X</th>\n",
       "      <th>tBodyAcc-max()-X</th>\n",
       "      <th>fBodyAcc-bandsEnergy()-1,8.2</th>\n",
       "      <th>angle(X,gravityMean)</th>\n",
       "      <th>angle(Y,gravityMean)</th>\n",
       "      <th>angle(Z,gravityMean)</th>\n",
       "      <th>fBodyAcc-skewness()-X</th>\n",
       "      <th>subject</th>\n",
       "    </tr>\n",
       "  </thead>\n",
       "  <tbody>\n",
       "    <tr>\n",
       "      <th>count</th>\n",
       "      <td>2947.000000</td>\n",
       "      <td>2947.000000</td>\n",
       "      <td>2947.000000</td>\n",
       "      <td>2947.000000</td>\n",
       "      <td>2947.000000</td>\n",
       "      <td>2947.000000</td>\n",
       "      <td>2947.000000</td>\n",
       "      <td>2947.000000</td>\n",
       "      <td>2947.000000</td>\n",
       "      <td>2947.000000</td>\n",
       "    </tr>\n",
       "    <tr>\n",
       "      <th>mean</th>\n",
       "      <td>-0.559043</td>\n",
       "      <td>-0.735661</td>\n",
       "      <td>0.696878</td>\n",
       "      <td>-0.462063</td>\n",
       "      <td>-0.880361</td>\n",
       "      <td>-0.513923</td>\n",
       "      <td>0.074886</td>\n",
       "      <td>-0.048720</td>\n",
       "      <td>-0.154042</td>\n",
       "      <td>12.986427</td>\n",
       "    </tr>\n",
       "    <tr>\n",
       "      <th>std</th>\n",
       "      <td>0.439539</td>\n",
       "      <td>0.282074</td>\n",
       "      <td>0.502873</td>\n",
       "      <td>0.523916</td>\n",
       "      <td>0.160496</td>\n",
       "      <td>0.509205</td>\n",
       "      <td>0.324300</td>\n",
       "      <td>0.241467</td>\n",
       "      <td>0.392203</td>\n",
       "      <td>6.950984</td>\n",
       "    </tr>\n",
       "    <tr>\n",
       "      <th>min</th>\n",
       "      <td>-0.998936</td>\n",
       "      <td>-1.000000</td>\n",
       "      <td>-0.756774</td>\n",
       "      <td>-0.952357</td>\n",
       "      <td>-0.999989</td>\n",
       "      <td>-0.984195</td>\n",
       "      <td>-0.913704</td>\n",
       "      <td>-0.949228</td>\n",
       "      <td>-1.000000</td>\n",
       "      <td>2.000000</td>\n",
       "    </tr>\n",
       "    <tr>\n",
       "      <th>25%</th>\n",
       "      <td>-0.978433</td>\n",
       "      <td>-0.989078</td>\n",
       "      <td>0.836787</td>\n",
       "      <td>-0.934447</td>\n",
       "      <td>-0.999330</td>\n",
       "      <td>-0.829722</td>\n",
       "      <td>0.022140</td>\n",
       "      <td>-0.098485</td>\n",
       "      <td>-0.497070</td>\n",
       "      <td>9.000000</td>\n",
       "    </tr>\n",
       "    <tr>\n",
       "      <th>50%</th>\n",
       "      <td>-0.861830</td>\n",
       "      <td>-0.914698</td>\n",
       "      <td>0.934930</td>\n",
       "      <td>-0.852659</td>\n",
       "      <td>-0.979336</td>\n",
       "      <td>-0.729648</td>\n",
       "      <td>0.181563</td>\n",
       "      <td>-0.010671</td>\n",
       "      <td>-0.202050</td>\n",
       "      <td>12.000000</td>\n",
       "    </tr>\n",
       "    <tr>\n",
       "      <th>75%</th>\n",
       "      <td>-0.149596</td>\n",
       "      <td>-0.486423</td>\n",
       "      <td>0.970871</td>\n",
       "      <td>-0.009965</td>\n",
       "      <td>-0.799113</td>\n",
       "      <td>-0.545939</td>\n",
       "      <td>0.260252</td>\n",
       "      <td>0.092373</td>\n",
       "      <td>0.140254</td>\n",
       "      <td>18.000000</td>\n",
       "    </tr>\n",
       "    <tr>\n",
       "      <th>max</th>\n",
       "      <td>0.479547</td>\n",
       "      <td>0.117606</td>\n",
       "      <td>0.996148</td>\n",
       "      <td>0.786436</td>\n",
       "      <td>0.048730</td>\n",
       "      <td>0.833180</td>\n",
       "      <td>1.000000</td>\n",
       "      <td>0.973113</td>\n",
       "      <td>0.960367</td>\n",
       "      <td>24.000000</td>\n",
       "    </tr>\n",
       "  </tbody>\n",
       "</table>\n",
       "</div>"
      ],
      "text/plain": [
       "       tBodyAccMag-mean()  tBodyGyroJerk-mad()-X  tGravityAcc-min()-X  \\\n",
       "count         2947.000000            2947.000000          2947.000000   \n",
       "mean            -0.559043              -0.735661             0.696878   \n",
       "std              0.439539               0.282074             0.502873   \n",
       "min             -0.998936              -1.000000            -0.756774   \n",
       "25%             -0.978433              -0.989078             0.836787   \n",
       "50%             -0.861830              -0.914698             0.934930   \n",
       "75%             -0.149596              -0.486423             0.970871   \n",
       "max              0.479547               0.117606             0.996148   \n",
       "\n",
       "       tBodyAcc-max()-X  fBodyAcc-bandsEnergy()-1,8.2  angle(X,gravityMean)  \\\n",
       "count       2947.000000                   2947.000000           2947.000000   \n",
       "mean          -0.462063                     -0.880361             -0.513923   \n",
       "std            0.523916                      0.160496              0.509205   \n",
       "min           -0.952357                     -0.999989             -0.984195   \n",
       "25%           -0.934447                     -0.999330             -0.829722   \n",
       "50%           -0.852659                     -0.979336             -0.729648   \n",
       "75%           -0.009965                     -0.799113             -0.545939   \n",
       "max            0.786436                      0.048730              0.833180   \n",
       "\n",
       "       angle(Y,gravityMean)  angle(Z,gravityMean)  fBodyAcc-skewness()-X  \\\n",
       "count           2947.000000           2947.000000            2947.000000   \n",
       "mean               0.074886             -0.048720              -0.154042   \n",
       "std                0.324300              0.241467               0.392203   \n",
       "min               -0.913704             -0.949228              -1.000000   \n",
       "25%                0.022140             -0.098485              -0.497070   \n",
       "50%                0.181563             -0.010671              -0.202050   \n",
       "75%                0.260252              0.092373               0.140254   \n",
       "max                1.000000              0.973113               0.960367   \n",
       "\n",
       "           subject  \n",
       "count  2947.000000  \n",
       "mean     12.986427  \n",
       "std       6.950984  \n",
       "min       2.000000  \n",
       "25%       9.000000  \n",
       "50%      12.000000  \n",
       "75%      18.000000  \n",
       "max      24.000000  "
      ]
     },
     "execution_count": 186,
     "metadata": {},
     "output_type": "execute_result"
    }
   ],
   "source": [
    "test.describe()"
   ]
  },
  {
   "cell_type": "markdown",
   "metadata": {},
   "source": [
    "Видно, в тренировочной выборке максимумы значений в стоблцах tBodyAccMag-mean(), tBodyGyroJerk-mad()-X, tGravityAcc-min()-X, tBodyAcc-max()-X, fBodyAcc-bandsEnergy()-1,8.2, angle(X,gravityMean) и angle(Z,gravityMean) достигаются, а в тестовой выборке - нет"
   ]
  },
  {
   "cell_type": "code",
   "execution_count": 187,
   "metadata": {},
   "outputs": [
    {
     "data": {
      "text/plain": [
       "tBodyAccMag-mean()              0.021541\n",
       "tBodyGyroJerk-mad()-X           0.035570\n",
       "tGravityAcc-min()-X             0.008237\n",
       "tBodyAcc-max()-X                0.028978\n",
       "fBodyAcc-bandsEnergy()-1,8.2    0.007246\n",
       "angle(X,gravityMean)            0.020230\n",
       "angle(Y,gravityMean)            0.000509\n",
       "angle(Z,gravityMean)            0.013852\n",
       "fBodyAcc-skewness()-X           0.038779\n",
       "subject                         7.000000\n",
       "Name: 50%, dtype: float64"
      ]
     },
     "execution_count": 187,
     "metadata": {},
     "output_type": "execute_result"
    }
   ],
   "source": [
    "abs(train.describe().loc[\"50%\"] - test.describe().loc[\"50%\"])"
   ]
  },
  {
   "cell_type": "markdown",
   "metadata": {},
   "source": [
    "Во всех столбцах кроме subject значения медиан отличаются не сильно (относительно порядка величины в столбцах)"
   ]
  },
  {
   "cell_type": "markdown",
   "metadata": {},
   "source": [
    "### Задание 3 (0.5 балла)\n",
    "\n",
    "Данные сбалансированы? У вас есть 6 категорий активности (целевая переменная). Если одна из категорий представлена большим количеством наблюдений, а остальные - нет, то это обстоятельство, о котором хотелось бы знать заранее. Гиперболизированный пример: представьте, что у вас 1000 наблюдений, разделенных на два класса, и только 5 принадлежат ко второму классу. Как учить модель на такой выборке? Есть сильное подозрение, что многие модели будут склонны вырождаться в константу. Отсюда и необходимость проверять баланс классов.\n",
    "\n",
    "Выведите количество наблюдений для всех категорий активности в train и test. Посчитайте разницу в процентах между самой крупной категорией и самой маленькой (самая большая категория - это 100%). Если разница (округленная до ближайшего целого числа) не превышает 30%, то давайте для наших целей считать, что данные сбалансированы. Напишите, сбалансированы ли данные в train и test."
   ]
  },
  {
   "cell_type": "code",
   "execution_count": 188,
   "metadata": {},
   "outputs": [
    {
     "data": {
      "text/plain": [
       "Activity\n",
       "LAYING                1407\n",
       "STANDING              1374\n",
       "SITTING               1286\n",
       "WALKING               1226\n",
       "WALKING_UPSTAIRS      1073\n",
       "WALKING_DOWNSTAIRS     986\n",
       "Name: count, dtype: int64"
      ]
     },
     "execution_count": 188,
     "metadata": {},
     "output_type": "execute_result"
    }
   ],
   "source": [
    "train.Activity.value_counts()"
   ]
  },
  {
   "cell_type": "code",
   "execution_count": 189,
   "metadata": {},
   "outputs": [
    {
     "data": {
      "image/png": "[encoded data removed]",
      "text/plain": [
       "<Figure size 1400x500 with 1 Axes>"
      ]
     },
     "metadata": {},
     "output_type": "display_data"
    }
   ],
   "source": [
    "train.Activity.hist(bins=20, figsize=(14, 5), legend=True).set_title(\"Histogram of the activity in the train set\")\n",
    "plt.show()"
   ]
  },
  {
   "cell_type": "code",
   "execution_count": 190,
   "metadata": {},
   "outputs": [
    {
     "data": {
      "text/plain": [
       "Activity\n",
       "LAYING                537\n",
       "STANDING              532\n",
       "WALKING               496\n",
       "SITTING               491\n",
       "WALKING_UPSTAIRS      471\n",
       "WALKING_DOWNSTAIRS    420\n",
       "Name: count, dtype: int64"
      ]
     },
     "execution_count": 190,
     "metadata": {},
     "output_type": "execute_result"
    }
   ],
   "source": [
    "test.Activity.value_counts()"
   ]
  },
  {
   "cell_type": "code",
   "execution_count": 191,
   "metadata": {},
   "outputs": [
    {
     "data": {
      "image/png": "[encoded data removed]",
      "text/plain": [
       "<Figure size 1400x500 with 1 Axes>"
      ]
     },
     "metadata": {},
     "output_type": "display_data"
    }
   ],
   "source": [
    "test.Activity.hist(bins=20, figsize=(14, 5), legend=True).set_title(\"Histogram of the activity in the test set\")\n",
    "plt.show()"
   ]
  },
  {
   "cell_type": "code",
   "execution_count": 192,
   "metadata": {},
   "outputs": [],
   "source": [
    "def relative_perc_diff(df: pd.DataFrame, col_name: str) -> int:\n",
    "    vlcnts = df[col_name].value_counts(sort=True)\n",
    "    if vlcnts.max() == 0:\n",
    "        return 0\n",
    "    return int((1 - vlcnts.min() / vlcnts.max()) * 100 + 0.5)"
   ]
  },
  {
   "cell_type": "code",
   "execution_count": 193,
   "metadata": {},
   "outputs": [
    {
     "name": "stdout",
     "output_type": "stream",
     "text": [
      "Categorires in the 'Activity' column in the train dataset are balanced (integer coeff = 30)\n"
     ]
    }
   ],
   "source": [
    "coeff = relative_perc_diff(train, \"Activity\")\n",
    "print(f\"Categorires in the 'Activity' column in the train dataset are {'' if coeff <= 30 else 'no '}balanced (integer coeff = {coeff})\")"
   ]
  },
  {
   "cell_type": "code",
   "execution_count": 194,
   "metadata": {},
   "outputs": [
    {
     "name": "stdout",
     "output_type": "stream",
     "text": [
      "Categorires in the 'Activity' column in the test dataset are balanced (integer coeff = 22)\n"
     ]
    }
   ],
   "source": [
    "coeff = relative_perc_diff(test, \"Activity\")\n",
    "print(f\"Categorires in the 'Activity' column in the test dataset are {'' if coeff <= 30 else 'no '}balanced (integer coeff = {coeff})\")"
   ]
  },
  {
   "cell_type": "markdown",
   "metadata": {},
   "source": [
    "### Задание 4 (0.5 балла)\n",
    "\n",
    "Посчитайте корреляции всех признаков (включая таргет) со всеми другими. Какими получились значения? Есть идеи, почему так? Напишите ваши мысли."
   ]
  },
  {
   "cell_type": "markdown",
   "metadata": {},
   "source": [
    "Сделаем one-hot кодирование таргета (т.к. Activity - это строковая категориальная переменная)"
   ]
  },
  {
   "cell_type": "code",
   "execution_count": 215,
   "metadata": {},
   "outputs": [
    {
     "data": {
      "text/html": [
       "<div>\n",
       "<style scoped>\n",
       "    .dataframe tbody tr th:only-of-type {\n",
       "        vertical-align: middle;\n",
       "    }\n",
       "\n",
       "    .dataframe tbody tr th {\n",
       "        vertical-align: top;\n",
       "    }\n",
       "\n",
       "    .dataframe thead th {\n",
       "        text-align: right;\n",
       "    }\n",
       "</style>\n",
       "<table border=\"1\" class=\"dataframe\">\n",
       "  <thead>\n",
       "    <tr style=\"text-align: right;\">\n",
       "      <th></th>\n",
       "      <th>LAYING</th>\n",
       "      <th>SITTING</th>\n",
       "      <th>STANDING</th>\n",
       "      <th>WALKING</th>\n",
       "      <th>WALKING_DOWNSTAIRS</th>\n",
       "      <th>WALKING_UPSTAIRS</th>\n",
       "    </tr>\n",
       "  </thead>\n",
       "  <tbody>\n",
       "    <tr>\n",
       "      <th>0</th>\n",
       "      <td>False</td>\n",
       "      <td>False</td>\n",
       "      <td>True</td>\n",
       "      <td>False</td>\n",
       "      <td>False</td>\n",
       "      <td>False</td>\n",
       "    </tr>\n",
       "    <tr>\n",
       "      <th>1</th>\n",
       "      <td>False</td>\n",
       "      <td>False</td>\n",
       "      <td>True</td>\n",
       "      <td>False</td>\n",
       "      <td>False</td>\n",
       "      <td>False</td>\n",
       "    </tr>\n",
       "    <tr>\n",
       "      <th>2</th>\n",
       "      <td>False</td>\n",
       "      <td>False</td>\n",
       "      <td>True</td>\n",
       "      <td>False</td>\n",
       "      <td>False</td>\n",
       "      <td>False</td>\n",
       "    </tr>\n",
       "    <tr>\n",
       "      <th>3</th>\n",
       "      <td>False</td>\n",
       "      <td>False</td>\n",
       "      <td>True</td>\n",
       "      <td>False</td>\n",
       "      <td>False</td>\n",
       "      <td>False</td>\n",
       "    </tr>\n",
       "    <tr>\n",
       "      <th>4</th>\n",
       "      <td>False</td>\n",
       "      <td>False</td>\n",
       "      <td>True</td>\n",
       "      <td>False</td>\n",
       "      <td>False</td>\n",
       "      <td>False</td>\n",
       "    </tr>\n",
       "    <tr>\n",
       "      <th>...</th>\n",
       "      <td>...</td>\n",
       "      <td>...</td>\n",
       "      <td>...</td>\n",
       "      <td>...</td>\n",
       "      <td>...</td>\n",
       "      <td>...</td>\n",
       "    </tr>\n",
       "    <tr>\n",
       "      <th>7347</th>\n",
       "      <td>False</td>\n",
       "      <td>False</td>\n",
       "      <td>False</td>\n",
       "      <td>False</td>\n",
       "      <td>False</td>\n",
       "      <td>True</td>\n",
       "    </tr>\n",
       "    <tr>\n",
       "      <th>7348</th>\n",
       "      <td>False</td>\n",
       "      <td>False</td>\n",
       "      <td>False</td>\n",
       "      <td>False</td>\n",
       "      <td>False</td>\n",
       "      <td>True</td>\n",
       "    </tr>\n",
       "    <tr>\n",
       "      <th>7349</th>\n",
       "      <td>False</td>\n",
       "      <td>False</td>\n",
       "      <td>False</td>\n",
       "      <td>False</td>\n",
       "      <td>False</td>\n",
       "      <td>True</td>\n",
       "    </tr>\n",
       "    <tr>\n",
       "      <th>7350</th>\n",
       "      <td>False</td>\n",
       "      <td>False</td>\n",
       "      <td>False</td>\n",
       "      <td>False</td>\n",
       "      <td>False</td>\n",
       "      <td>True</td>\n",
       "    </tr>\n",
       "    <tr>\n",
       "      <th>7351</th>\n",
       "      <td>False</td>\n",
       "      <td>False</td>\n",
       "      <td>False</td>\n",
       "      <td>False</td>\n",
       "      <td>False</td>\n",
       "      <td>True</td>\n",
       "    </tr>\n",
       "  </tbody>\n",
       "</table>\n",
       "<p>7352 rows × 6 columns</p>\n",
       "</div>"
      ],
      "text/plain": [
       "      LAYING  SITTING  STANDING  WALKING  WALKING_DOWNSTAIRS  WALKING_UPSTAIRS\n",
       "0      False    False      True    False               False             False\n",
       "1      False    False      True    False               False             False\n",
       "2      False    False      True    False               False             False\n",
       "3      False    False      True    False               False             False\n",
       "4      False    False      True    False               False             False\n",
       "...      ...      ...       ...      ...                 ...               ...\n",
       "7347   False    False     False    False               False              True\n",
       "7348   False    False     False    False               False              True\n",
       "7349   False    False     False    False               False              True\n",
       "7350   False    False     False    False               False              True\n",
       "7351   False    False     False    False               False              True\n",
       "\n",
       "[7352 rows x 6 columns]"
      ]
     },
     "execution_count": 215,
     "metadata": {},
     "output_type": "execute_result"
    }
   ],
   "source": []
  },
  {
   "cell_type": "code",
   "execution_count": 196,
   "metadata": {},
   "outputs": [
    {
     "data": {
      "text/html": [
       "<div>\n",
       "<style scoped>\n",
       "    .dataframe tbody tr th:only-of-type {\n",
       "        vertical-align: middle;\n",
       "    }\n",
       "\n",
       "    .dataframe tbody tr th {\n",
       "        vertical-align: top;\n",
       "    }\n",
       "\n",
       "    .dataframe thead th {\n",
       "        text-align: right;\n",
       "    }\n",
       "</style>\n",
       "<table border=\"1\" class=\"dataframe\">\n",
       "  <thead>\n",
       "    <tr style=\"text-align: right;\">\n",
       "      <th></th>\n",
       "      <th>tBodyAccMag-mean()</th>\n",
       "      <th>tBodyGyroJerk-mad()-X</th>\n",
       "      <th>tGravityAcc-min()-X</th>\n",
       "      <th>tBodyAcc-max()-X</th>\n",
       "      <th>fBodyAcc-bandsEnergy()-1,8.2</th>\n",
       "      <th>angle(X,gravityMean)</th>\n",
       "      <th>angle(Y,gravityMean)</th>\n",
       "      <th>angle(Z,gravityMean)</th>\n",
       "      <th>fBodyAcc-skewness()-X</th>\n",
       "      <th>subject</th>\n",
       "    </tr>\n",
       "  </thead>\n",
       "  <tbody>\n",
       "    <tr>\n",
       "      <th>tBodyAccMag-mean()</th>\n",
       "      <td>1.000000</td>\n",
       "      <td>0.899080</td>\n",
       "      <td>0.369962</td>\n",
       "      <td>0.959827</td>\n",
       "      <td>0.697832</td>\n",
       "      <td>-0.370849</td>\n",
       "      <td>0.495561</td>\n",
       "      <td>0.426283</td>\n",
       "      <td>0.379796</td>\n",
       "      <td>-0.073652</td>\n",
       "    </tr>\n",
       "    <tr>\n",
       "      <th>tBodyGyroJerk-mad()-X</th>\n",
       "      <td>0.899080</td>\n",
       "      <td>1.000000</td>\n",
       "      <td>0.380118</td>\n",
       "      <td>0.879900</td>\n",
       "      <td>0.507939</td>\n",
       "      <td>-0.382246</td>\n",
       "      <td>0.478567</td>\n",
       "      <td>0.380967</td>\n",
       "      <td>0.266002</td>\n",
       "      <td>-0.110321</td>\n",
       "    </tr>\n",
       "    <tr>\n",
       "      <th>tGravityAcc-min()-X</th>\n",
       "      <td>0.369962</td>\n",
       "      <td>0.380118</td>\n",
       "      <td>1.000000</td>\n",
       "      <td>0.380404</td>\n",
       "      <td>0.239088</td>\n",
       "      <td>-0.988663</td>\n",
       "      <td>0.797116</td>\n",
       "      <td>0.667415</td>\n",
       "      <td>-0.261676</td>\n",
       "      <td>-0.042371</td>\n",
       "    </tr>\n",
       "    <tr>\n",
       "      <th>tBodyAcc-max()-X</th>\n",
       "      <td>0.959827</td>\n",
       "      <td>0.879900</td>\n",
       "      <td>0.380404</td>\n",
       "      <td>1.000000</td>\n",
       "      <td>0.613383</td>\n",
       "      <td>-0.384192</td>\n",
       "      <td>0.480229</td>\n",
       "      <td>0.405023</td>\n",
       "      <td>0.335708</td>\n",
       "      <td>-0.055633</td>\n",
       "    </tr>\n",
       "    <tr>\n",
       "      <th>fBodyAcc-bandsEnergy()-1,8.2</th>\n",
       "      <td>0.697832</td>\n",
       "      <td>0.507939</td>\n",
       "      <td>0.239088</td>\n",
       "      <td>0.613383</td>\n",
       "      <td>1.000000</td>\n",
       "      <td>-0.213318</td>\n",
       "      <td>0.363170</td>\n",
       "      <td>0.423927</td>\n",
       "      <td>0.260316</td>\n",
       "      <td>-0.037000</td>\n",
       "    </tr>\n",
       "    <tr>\n",
       "      <th>angle(X,gravityMean)</th>\n",
       "      <td>-0.370849</td>\n",
       "      <td>-0.382246</td>\n",
       "      <td>-0.988663</td>\n",
       "      <td>-0.384192</td>\n",
       "      <td>-0.213318</td>\n",
       "      <td>1.000000</td>\n",
       "      <td>-0.783848</td>\n",
       "      <td>-0.643655</td>\n",
       "      <td>0.265523</td>\n",
       "      <td>0.026137</td>\n",
       "    </tr>\n",
       "    <tr>\n",
       "      <th>angle(Y,gravityMean)</th>\n",
       "      <td>0.495561</td>\n",
       "      <td>0.478567</td>\n",
       "      <td>0.797116</td>\n",
       "      <td>0.480229</td>\n",
       "      <td>0.363170</td>\n",
       "      <td>-0.783848</td>\n",
       "      <td>1.000000</td>\n",
       "      <td>0.594885</td>\n",
       "      <td>-0.046213</td>\n",
       "      <td>-0.009829</td>\n",
       "    </tr>\n",
       "    <tr>\n",
       "      <th>angle(Z,gravityMean)</th>\n",
       "      <td>0.426283</td>\n",
       "      <td>0.380967</td>\n",
       "      <td>0.667415</td>\n",
       "      <td>0.405023</td>\n",
       "      <td>0.423927</td>\n",
       "      <td>-0.643655</td>\n",
       "      <td>0.594885</td>\n",
       "      <td>1.000000</td>\n",
       "      <td>-0.183815</td>\n",
       "      <td>-0.098712</td>\n",
       "    </tr>\n",
       "    <tr>\n",
       "      <th>fBodyAcc-skewness()-X</th>\n",
       "      <td>0.379796</td>\n",
       "      <td>0.266002</td>\n",
       "      <td>-0.261676</td>\n",
       "      <td>0.335708</td>\n",
       "      <td>0.260316</td>\n",
       "      <td>0.265523</td>\n",
       "      <td>-0.046213</td>\n",
       "      <td>-0.183815</td>\n",
       "      <td>1.000000</td>\n",
       "      <td>0.019742</td>\n",
       "    </tr>\n",
       "    <tr>\n",
       "      <th>subject</th>\n",
       "      <td>-0.073652</td>\n",
       "      <td>-0.110321</td>\n",
       "      <td>-0.042371</td>\n",
       "      <td>-0.055633</td>\n",
       "      <td>-0.037000</td>\n",
       "      <td>0.026137</td>\n",
       "      <td>-0.009829</td>\n",
       "      <td>-0.098712</td>\n",
       "      <td>0.019742</td>\n",
       "      <td>1.000000</td>\n",
       "    </tr>\n",
       "  </tbody>\n",
       "</table>\n",
       "</div>"
      ],
      "text/plain": [
       "                              tBodyAccMag-mean()  tBodyGyroJerk-mad()-X  \\\n",
       "tBodyAccMag-mean()                      1.000000               0.899080   \n",
       "tBodyGyroJerk-mad()-X                   0.899080               1.000000   \n",
       "tGravityAcc-min()-X                     0.369962               0.380118   \n",
       "tBodyAcc-max()-X                        0.959827               0.879900   \n",
       "fBodyAcc-bandsEnergy()-1,8.2            0.697832               0.507939   \n",
       "angle(X,gravityMean)                   -0.370849              -0.382246   \n",
       "angle(Y,gravityMean)                    0.495561               0.478567   \n",
       "angle(Z,gravityMean)                    0.426283               0.380967   \n",
       "fBodyAcc-skewness()-X                   0.379796               0.266002   \n",
       "subject                                -0.073652              -0.110321   \n",
       "\n",
       "                              tGravityAcc-min()-X  tBodyAcc-max()-X  \\\n",
       "tBodyAccMag-mean()                       0.369962          0.959827   \n",
       "tBodyGyroJerk-mad()-X                    0.380118          0.879900   \n",
       "tGravityAcc-min()-X                      1.000000          0.380404   \n",
       "tBodyAcc-max()-X                         0.380404          1.000000   \n",
       "fBodyAcc-bandsEnergy()-1,8.2             0.239088          0.613383   \n",
       "angle(X,gravityMean)                    -0.988663         -0.384192   \n",
       "angle(Y,gravityMean)                     0.797116          0.480229   \n",
       "angle(Z,gravityMean)                     0.667415          0.405023   \n",
       "fBodyAcc-skewness()-X                   -0.261676          0.335708   \n",
       "subject                                 -0.042371         -0.055633   \n",
       "\n",
       "                              fBodyAcc-bandsEnergy()-1,8.2  \\\n",
       "tBodyAccMag-mean()                                0.697832   \n",
       "tBodyGyroJerk-mad()-X                             0.507939   \n",
       "tGravityAcc-min()-X                               0.239088   \n",
       "tBodyAcc-max()-X                                  0.613383   \n",
       "fBodyAcc-bandsEnergy()-1,8.2                      1.000000   \n",
       "angle(X,gravityMean)                             -0.213318   \n",
       "angle(Y,gravityMean)                              0.363170   \n",
       "angle(Z,gravityMean)                              0.423927   \n",
       "fBodyAcc-skewness()-X                             0.260316   \n",
       "subject                                          -0.037000   \n",
       "\n",
       "                              angle(X,gravityMean)  angle(Y,gravityMean)  \\\n",
       "tBodyAccMag-mean()                       -0.370849              0.495561   \n",
       "tBodyGyroJerk-mad()-X                    -0.382246              0.478567   \n",
       "tGravityAcc-min()-X                      -0.988663              0.797116   \n",
       "tBodyAcc-max()-X                         -0.384192              0.480229   \n",
       "fBodyAcc-bandsEnergy()-1,8.2             -0.213318              0.363170   \n",
       "angle(X,gravityMean)                      1.000000             -0.783848   \n",
       "angle(Y,gravityMean)                     -0.783848              1.000000   \n",
       "angle(Z,gravityMean)                     -0.643655              0.594885   \n",
       "fBodyAcc-skewness()-X                     0.265523             -0.046213   \n",
       "subject                                   0.026137             -0.009829   \n",
       "\n",
       "                              angle(Z,gravityMean)  fBodyAcc-skewness()-X  \\\n",
       "tBodyAccMag-mean()                        0.426283               0.379796   \n",
       "tBodyGyroJerk-mad()-X                     0.380967               0.266002   \n",
       "tGravityAcc-min()-X                       0.667415              -0.261676   \n",
       "tBodyAcc-max()-X                          0.405023               0.335708   \n",
       "fBodyAcc-bandsEnergy()-1,8.2              0.423927               0.260316   \n",
       "angle(X,gravityMean)                     -0.643655               0.265523   \n",
       "angle(Y,gravityMean)                      0.594885              -0.046213   \n",
       "angle(Z,gravityMean)                      1.000000              -0.183815   \n",
       "fBodyAcc-skewness()-X                    -0.183815               1.000000   \n",
       "subject                                  -0.098712               0.019742   \n",
       "\n",
       "                               subject  \n",
       "tBodyAccMag-mean()           -0.073652  \n",
       "tBodyGyroJerk-mad()-X        -0.110321  \n",
       "tGravityAcc-min()-X          -0.042371  \n",
       "tBodyAcc-max()-X             -0.055633  \n",
       "fBodyAcc-bandsEnergy()-1,8.2 -0.037000  \n",
       "angle(X,gravityMean)          0.026137  \n",
       "angle(Y,gravityMean)         -0.009829  \n",
       "angle(Z,gravityMean)         -0.098712  \n",
       "fBodyAcc-skewness()-X         0.019742  \n",
       "subject                       1.000000  "
      ]
     },
     "execution_count": 196,
     "metadata": {},
     "output_type": "execute_result"
    }
   ],
   "source": [
    "train.corr(numeric_only=True)"
   ]
  },
  {
   "cell_type": "markdown",
   "metadata": {},
   "source": [
    "Поздравляем! Вы предобработали данные для максимально комфортного их последующего анализа. Теперь вы готовы приступить к Exploratory Data Analysis!"
   ]
  },
  {
   "cell_type": "markdown",
   "metadata": {},
   "source": [
    "## Exploratory Data Analysis"
   ]
  },
  {
   "cell_type": "markdown",
   "metadata": {},
   "source": [
    "### Задание 5 (0.5 балла)\n",
    "\n",
    "Вы проверили основную информацию о данных и составили свое первое впечатление о них. Теперь визуализации.\n",
    "\n",
    "Начнем рисовать графики с небольшой разминки. Выберите две любые математические функции (отличные от линейной) и нарисуйте их на одном графике. Подпишите каждый из графиков, чтобы было понятно, какие функции вы выбрали. Ниже будет пример."
   ]
  },
  {
   "cell_type": "code",
   "execution_count": 197,
   "metadata": {},
   "outputs": [],
   "source": [
    "# (╯°□°)--︻╦╤─ - - - your code here"
   ]
  },
  {
   "cell_type": "markdown",
   "metadata": {},
   "source": [
    "### Задание 6 (0.5 балла)\n",
    "\n",
    "Ранее мы уже проверили сбалансированность данных по разным категориям активностей в train и test сетах. Теперь визуализируйте количество сэмплов в каждой из категорий отдельно для train и test сетов, как в примере ниже. Проследите, чтобы порядок категорий слева и справа был одинаков. Иначе не очень удобно их сравнивать (когда они в разных местах двух графиков). Также заметьте, что в примере ось Х в одинаковом масштабе, что тоже удобно для сравнения.\n",
    "\n",
    "Вам может пригодиться:\n",
    "- plt.barh или ax.barh"
   ]
  },
  {
   "cell_type": "code",
   "execution_count": 198,
   "metadata": {},
   "outputs": [],
   "source": [
    "# ̿' ̿'\\̵͇̿̿\\з=( ͡ °_̯͡° )=ε/̵͇̿̿/'̿'̿ ̿ your code here"
   ]
  },
  {
   "cell_type": "markdown",
   "metadata": {},
   "source": [
    "Правда на таких графиках проще проверять баланс классов таргета?)"
   ]
  },
  {
   "cell_type": "markdown",
   "metadata": {},
   "source": [
    "### Задание 7 (0.5 балла)\n",
    "\n",
    "Ранее вы выводили таблицу корреляций. Однако просто таблица корреляций не очень удобна для анализа. Что, если признаков было бы больше? Визуализируйте heatmap корреляций. Подпишите значения корреляций, округленные до 2 знаков после запятой, на графике и оставьте только те значения, которые по модулю не меньше 0.5. Будем считать такие корреляции существенными. Если будете брать код из семинарского ноутбука, то поменяйте в нем что-нибудь, например, цветовую гамму, иначе проверяющий будет карать :)\n",
    "\n",
    "Какой признак стоит исключить из рассмотрения корреляций? Напишите его название, а также причину, почему нет смысла его рассматривать. \n",
    "\n",
    "Вам может пригодиться:\n",
    "- sns.heatmap\n",
    "- методы get_text и set_text у атрибута texts графика"
   ]
  },
  {
   "cell_type": "code",
   "execution_count": 199,
   "metadata": {},
   "outputs": [],
   "source": [
    "# ღゝ◡╹)ノ♡ your code here"
   ]
  },
  {
   "cell_type": "markdown",
   "metadata": {},
   "source": [
    "### Задание 8 (0.5 балла)\n",
    "\n",
    "Для начала будем стрелять из пушки по воробьям. Выведите pairplot по всем данным train сета. Напишите, заметили ли вы в нем что-нибудь интересное, чего не было в таблицах и графиках ранее, а также сообщите, было ли вам удобно анализировать 100 графиков. "
   ]
  },
  {
   "cell_type": "code",
   "execution_count": 200,
   "metadata": {},
   "outputs": [],
   "source": [
    "# ♪ヽ( ⌒o⌒)人(⌒-⌒ )v ♪ your code here"
   ]
  },
  {
   "cell_type": "markdown",
   "metadata": {},
   "source": [
    "### Задание 9 (1 балл)\n",
    "\n",
    "Окей. Смотреть на все сразу не очень удобно. Кажется, нужно смотреть на признаки в отдельности и искать в них инсайты.\n",
    "\n",
    "Попробуем проверить гипотезу. Отобразите плотность распределения (kde) `tBodyAccMag-mean()` для каждой из активностей, как в примере ниже. Видите закономерность? Можно ли поделить все активности на две группы? Если да, то проведите вертикальную линию, которая визуально неплохо разделяет эти группы. \n",
    "\n",
    "Давайте первую группу называть статическими активностями, а вторую - динамическими.\n",
    "\n",
    "Посчитайте, какую долю правильных ответов дает ваша вертикальная линия для разделения именно этих двух групп. С чем может быть связан полученный вами результат? Предположите логическое обоснование (почему именно данный признак так хорошо/плохо разделяет группы активностей).\n",
    "\n",
    "Вам может пригодиться:\n",
    "- sns.kdeplot"
   ]
  },
  {
   "cell_type": "code",
   "execution_count": 201,
   "metadata": {},
   "outputs": [],
   "source": [
    "# ʅ(◔౪◔ ) ʃ your code here"
   ]
  },
  {
   "cell_type": "markdown",
   "metadata": {},
   "source": [
    "### Задание 10 (0.5 балла)\n",
    "\n",
    "Поздравляем, вы проверили первую гипотезу в процессе EDA. Однако нам бы хотелось уметь не группы разделять, а каждый отдельный вид активности. Попробуйте нарисовать \"ящики с усами\" для `angle(X,gravityMean)` с разделением по разным видам активности на данных train. Можно ли сделать какой-то вывод по полученной визуализации? Проанализируйте и проинтерпретируйте полученные картинки (если заметили какую-то особенность, может какая-то категория значительно выделяется, то предположите, почему так могло произойти).\n",
    "\n",
    "Вам может пригодиться:\n",
    "- sns.boxplot"
   ]
  },
  {
   "cell_type": "code",
   "execution_count": 202,
   "metadata": {},
   "outputs": [],
   "source": [
    "# ^⨀ᴥ⨀^ your code here"
   ]
  },
  {
   "cell_type": "markdown",
   "metadata": {},
   "source": [
    "### Задание 11 (0.5 балла)\n",
    "\n",
    "Посмотрим теперь на `tBodyAcc-max()-X`. Визуализируйте скрипичные диаграммы для этого признака с разделением по активностям на всем train. Кажется логичным, что максимальное ускорение в моменте для разных активностей будет различаться. Однако есть ли активность, которая будет выделяться? Если да, то предложите объяснение, почему эта активность выделяется.\n",
    "\n",
    "Вам может пригодиться:\n",
    "- sns.violinplot"
   ]
  },
  {
   "cell_type": "code",
   "execution_count": 203,
   "metadata": {},
   "outputs": [],
   "source": [
    "# ( ͡☉ ͜ʖ ͡☉) your code here"
   ]
  },
  {
   "cell_type": "markdown",
   "metadata": {},
   "source": [
    "### Задание 12 (1 балл)\n",
    "\n",
    "Вы уже можете с довольно хорошим качеством выделить две категории активности из шести. Продолжим. \n",
    "\n",
    "Ранее уже упоминалось разделение на две группы активностей: статические и динамические. Пришла пора разделить датасет train на две части. Сделайте это! Теперь на одной картинке покажите распределения `fBodyAcc-bandsEnergy()-1,8.2` для динамичных активностей (boxenplot - немного измененый \"ящик с усами\") и `angle(Y,gravityMean)` для статических - тут хватит и простой гистограммы (прямо, как в примере ниже). Можно ли выделить еще какие-то активности? Если да, напишите, какие активности на 1 и 2 графиках выделяются.\n",
    "\n",
    "Вам может пригодиться:\n",
    "- plt.subplots или matplotlib.gridspec (заметили, что один график больше другого? попробуйте сами так сделать - вам понравится...)\n",
    "- sns.boxenplot\n",
    "- sns.histplot"
   ]
  },
  {
   "cell_type": "code",
   "execution_count": 204,
   "metadata": {},
   "outputs": [],
   "source": [
    "# ‿( ́ ̵ _-`)‿ your code here"
   ]
  },
  {
   "cell_type": "markdown",
   "metadata": {},
   "source": [
    "### Задание 13 (0.5 балла)\n",
    "\n",
    "Не всегда жизнь будет такой легкой, а данные будут полностью или почти линейно разделимы в одному признаку (иначе чем бы занимались дата саентисты...). Часто данные вообще ни по одному признаку нельзя адекватно разделить (да и по комбинациям признаков тоже). Давайте попробуем взять не один признак, а целых два! \n",
    "\n",
    "Рассмотрим только статические активности. Будет снова два графика сразу. На первом графике будет боксплот распределения `fBodyAcc-skewness()-X` по активностям. А на втором попробуем взять не все наблюдения данной группы активностей, а только их часть. Разделимы ли категории по `fBodyAcc-skewness()-X`? А если взять только те строки, где `fBodyAcc-skewness()-X < -0.376`, и теперь вывести боксплот распределения `angle(Y,gravityMean)` по разным активностям? Попробуйте и напишите, выделилась ли какая-то категория? \n",
    "\n",
    "Вам может пригодиться:\n",
    "- plt.subplots или matplotlib.gridspec\n",
    "- sns.boxplot"
   ]
  },
  {
   "cell_type": "code",
   "execution_count": 205,
   "metadata": {},
   "outputs": [],
   "source": [
    "# (ಠ_ಠ) your code here"
   ]
  },
  {
   "cell_type": "markdown",
   "metadata": {},
   "source": [
    "Поздравляем, теперь вы на шажок ближе к тому, чтобы стать решающим деревом!"
   ]
  },
  {
   "cell_type": "markdown",
   "metadata": {},
   "source": [
    "### Задание 14 (1 балл)\n",
    "\n",
    "Вот и осталась лишь одна активность, которую мы никак не выделили. Попробуем и ее какими-то порогами отделить от всех остальных. Да, можно было бы сказать, что, раз уж мы выделили 5 из 6 категорий, то все остальное - это и есть последняя категория, но мы не идем легкими путями. Выделить оставшуюсь категорию с хорошим качеством не так уж и просто. Из доступных признаков, сначала посмотрите на распределение `tBodyAcc-max()-X` на динамических активностях (скрипичная диаграмма отлично подойдет). \n",
    "\n",
    "А теперь спускаем вам порог `tBodyAcc-max()-X < 0.157`. Для таких строк постройте диаграмму рассеяния для признака `tGravityAcc-min()-X`. Да, получается неидеально, но это честная работа. Можно выбрать порог так, чтобы чисто из таблицы с динамическими активностями из строк, где `tBodyAcc-max()-X < 0.157`, выбрать по некоторому порогу для `tGravityAcc-min()-X` строки так, чтобы доля правильных ответов на оставшейся категории была не меньше 83%!\n",
    "\n",
    "Вам может пригодиться:\n",
    "- plt.subplots или matplotlib.gridspec\n",
    "- sns.violinplot\n",
    "- sns.swarmplot (иногда лучше подходит, чем просто sns.scatterplot)\n",
    "\n",
    "Обратите внимание, что подписи к осям можно убирать методами plt. Например, если у вас общее название для оси Y для обоих графиков, то можно не подписывать ось Y у второго графика."
   ]
  },
  {
   "cell_type": "code",
   "execution_count": 206,
   "metadata": {},
   "outputs": [],
   "source": [
    "# (✖╭╮✖) your code here"
   ]
  },
  {
   "cell_type": "markdown",
   "metadata": {},
   "source": [
    "### Задание 15 (0.5 балла)\n",
    "\n",
    "Теперь попробуем более интерактивные графики. Установите библиотеку `plotly` (обычно `pip install plotly` или `conda install plotly`). Синтаксис очень похож на `seaborn`, но вот [документация для plotly.express](https://plotly.com/python-api-reference/plotly.express.html). \n",
    "\n",
    "Сначала подготовим данные для визуализации. Будем считать t-SNE просто \"черным ящиком\", который принимает наши данные и проецирует их в двумерное или трехмерное пространство. Возможно, придется немного подождать."
   ]
  },
  {
   "cell_type": "code",
   "execution_count": 207,
   "metadata": {},
   "outputs": [
    {
     "ename": "ModuleNotFoundError",
     "evalue": "No module named 'sklearn'",
     "output_type": "error",
     "traceback": [
      "\u001b[0;31m---------------------------------------------------------------------------\u001b[0m",
      "\u001b[0;31mModuleNotFoundError\u001b[0m                       Traceback (most recent call last)",
      "File \u001b[0;32m<timed exec>:1\u001b[0m\n",
      "\u001b[0;31mModuleNotFoundError\u001b[0m: No module named 'sklearn'"
     ]
    }
   ],
   "source": [
    "%%time\n",
    "from sklearn.manifold import TSNE\n",
    "tsne = TSNE(random_state=666, n_components=2)\n",
    "new = tsne.fit_transform(train.drop(['subject', 'Activity'], axis=1))\n",
    "df_2_comp = pd.concat([\n",
    "    pd.DataFrame(new, columns=['x', 'y']),\n",
    "    train['Activity']\n",
    "], axis=1)\n",
    "\n",
    "tsne = TSNE(random_state=666, n_components=3)\n",
    "new = tsne.fit_transform(train.drop(['subject', 'Activity'], axis=1))\n",
    "df_3_comp = pd.concat([\n",
    "    pd.DataFrame(new, columns=['x', 'y', 'z']),\n",
    "    train['Activity']\n",
    "], axis=1)"
   ]
  },
  {
   "cell_type": "markdown",
   "metadata": {},
   "source": [
    "Теперь нарисуйте scatter-график через `plotly.express` для `df_2_comp` с выделением цветами активностей. Красиво получилось? Видны скопления точек одного цвета? Можно разные активности отделить линиями на данном графике?"
   ]
  },
  {
   "cell_type": "code",
   "execution_count": 208,
   "metadata": {},
   "outputs": [],
   "source": [
    "# ʅ(◔౪◔ ) ʃ your code here"
   ]
  },
  {
   "cell_type": "markdown",
   "metadata": {},
   "source": [
    "Мы не отстаем от трендов и тоже можем в 3D. Сейчас и вы научитесь (если еще не умеете). Нарисуйте scatter_3d-график через `plotly.express` для `df_3_comp` с выделением цветами активностей. Повращайте его. Нормально получилось? Есть ли какая-то структура у точек?"
   ]
  },
  {
   "cell_type": "code",
   "execution_count": 209,
   "metadata": {},
   "outputs": [],
   "source": [
    "# (✧≖‿ゝ≖) your code here"
   ]
  },
  {
   "cell_type": "markdown",
   "metadata": {},
   "source": [
    "### Задание 16 (1 балл)\n",
    "\n",
    "Мы сделали вам fit. Ваша очередь сделать predict. Допишите функцию, которая принимает на вход датафрейм с признаками, а выдает вектор из предсказаний - для каждой строки датафрейма вы определяете, к какому классу принадлежит объект. Рекомендуем сразу записывать из строками, а не кодировать в числа. Дальше фукнция `accuracy_score` выдаст вам долю правильных ответов.\n",
    "\n",
    "Подсказка: вы уже отделили категории друг от друга по каким-то признакам. Воспользуйтесь этим знанием! Используя только проведенный вами анализ можно спокойно выбить не менее 75% на train и test! Если вы получите меньше 75%, то балл будет снижен. Авторское решение (на основе всех графиков выше) выбивает 81% и 77% на train и test соответственно. [Шапргалка с готовыми идеями для такой задачи](https://www.youtube.com/watch?v=dQw4w9WgXcQ)"
   ]
  },
  {
   "cell_type": "code",
   "execution_count": 210,
   "metadata": {},
   "outputs": [],
   "source": [
    "def predict(df: pd.DataFrame):\n",
    "    # ╰( ͡° ͜ʖ ͡° )つ──☆*:・ﾟ your code here\n",
    "    pass\n",
    "\n",
    "def accuracy_score(y_true, y_pred) -> float:\n",
    "    y_true = np.asarray(y_true).reshape(-1, 1)\n",
    "    y_pred = np.asarray(y_pred).reshape(-1, 1)\n",
    "    return (y_true == y_pred).mean()"
   ]
  },
  {
   "cell_type": "code",
   "execution_count": 211,
   "metadata": {},
   "outputs": [
    {
     "name": "stdout",
     "output_type": "stream",
     "text": [
      "Accuracy on train set => 0.0\n",
      "Accuracy on test set => 0.0\n"
     ]
    }
   ],
   "source": [
    "train_preds = predict(train)\n",
    "test_preds = predict(test)\n",
    "print(f\"Accuracy on train set => {accuracy_score(train['Activity'], train_preds)}\")\n",
    "print(f\"Accuracy on test set => {accuracy_score(test['Activity'], test_preds)}\")"
   ]
  },
  {
   "cell_type": "markdown",
   "metadata": {},
   "source": [
    "__Место для мема и/или фидбэка__"
   ]
  },
  {
   "cell_type": "markdown",
   "metadata": {},
   "source": [
    " "
   ]
  }
 ],
 "metadata": {
  "kernelspec": {
   "display_name": "Python 3 (ipykernel)",
   "language": "python",
   "name": "python3"
  },
  "language_info": {
   "codemirror_mode": {
    "name": "ipython",
    "version": 3
   },
   "file_extension": ".py",
   "mimetype": "text/x-python",
   "name": "python",
   "nbconvert_exporter": "python",
   "pygments_lexer": "ipython3",
   "version": "3.11.7"
  }
 },
 "nbformat": 4,
 "nbformat_minor": 4
}
