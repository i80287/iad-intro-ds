{
  "cells": [
    {
      "cell_type": "markdown",
      "metadata": {
        "id": "Ffq6A2-ifzAA"
      },
      "source": [
        "# Интеллектуальный анализ данных – весна 2024\n",
        "# Домашнее задание 6: классификация текстов"
      ]
    },
    {
      "cell_type": "markdown",
      "metadata": {
        "id": "EPcxtekTA1Sm"
      },
      "source": [
        "Правила:\n",
        "\n",
        "\n",
        "\n",
        "*   Домашнее задание оценивается в 10 баллов.\n",
        "*   Можно использовать без доказательства любые результаты, встречавшиеся на лекциях или семинарах по курсу, если получение этих результатов не является вопросом задания.\n",
        "*  Можно использовать любые свободные источники с *обязательным* указанием ссылки на них.\n",
        "*  Плагиат не допускается. При обнаружении случаев списывания, 0 за работу выставляется всем участникам нарушения, даже если можно установить, кто у кого списал.\n",
        "*  Старайтесь сделать код как можно более оптимальным. В частности, будет штрафоваться использование циклов в тех случаях, когда операцию можно совершить при помощи инструментов библиотек, о которых рассказывалось в курсе."
      ]
    },
    {
      "cell_type": "markdown",
      "metadata": {
        "id": "itRtFtrOf0_b"
      },
      "source": [
        "В этом домашнем задании вам предстоит построить классификатор текстов.\n",
        "\n",
        "Будем предсказывать эмоциональную окраску твиттов о коронавирусе.\n",
        "\n"
      ]
    },
    {
      "cell_type": "code",
      "execution_count": 401,
      "metadata": {
        "id": "tNGRVO7_g9mz"
      },
      "outputs": [],
      "source": [
        "import numpy as np\n",
        "import pandas as pd\n",
        "from typing import List, Dict\n",
        "import matplotlib.pyplot as plt\n",
        "import seaborn as sns\n",
        "from string import punctuation"
      ]
    },
    {
      "cell_type": "code",
      "execution_count": 402,
      "metadata": {},
      "outputs": [],
      "source": [
        "import os\n",
        "if not os.path.exists('/content/tweets_coronavirus.csv'):\n",
        "    if not os.path.exists(\"/content\"):\n",
        "        os.mkdir(\"/content\")\n",
        "\n",
        "    import requests\n",
        "    # Download dataset\n",
        "    url = r\"https://github.com/i80287/iad-intro-ds/raw/master/2024/homeworks/hw06_texts/tweets_coronavirus.csv\"\n",
        "    r = requests.get(url)\n",
        "    assert r.ok\n",
        "\n",
        "    with open(\"/content/tweets_coronavirus.csv\", \"w\") as f:\n",
        "        f.write(r.content.decode())\n"
      ]
    },
    {
      "cell_type": "code",
      "execution_count": 403,
      "metadata": {
        "colab": {
          "base_uri": "https://localhost:8080/",
          "height": 174
        },
        "id": "zOy8iHJQg_Ss",
        "outputId": "01951c93-1976-4fd2-b432-f9ec217dbd17"
      },
      "outputs": [
        {
          "data": {
            "text/html": [
              "<div>\n",
              "<style scoped>\n",
              "    .dataframe tbody tr th:only-of-type {\n",
              "        vertical-align: middle;\n",
              "    }\n",
              "\n",
              "    .dataframe tbody tr th {\n",
              "        vertical-align: top;\n",
              "    }\n",
              "\n",
              "    .dataframe thead th {\n",
              "        text-align: right;\n",
              "    }\n",
              "</style>\n",
              "<table border=\"1\" class=\"dataframe\">\n",
              "  <thead>\n",
              "    <tr style=\"text-align: right;\">\n",
              "      <th></th>\n",
              "      <th>UserName</th>\n",
              "      <th>ScreenName</th>\n",
              "      <th>Location</th>\n",
              "      <th>TweetAt</th>\n",
              "      <th>OriginalTweet</th>\n",
              "      <th>Sentiment</th>\n",
              "    </tr>\n",
              "  </thead>\n",
              "  <tbody>\n",
              "    <tr>\n",
              "      <th>23209</th>\n",
              "      <td>32154</td>\n",
              "      <td>77106</td>\n",
              "      <td>Scotland, United Kingdom</td>\n",
              "      <td>04-04-2020</td>\n",
              "      <td>Just back from work where we care for the most...</td>\n",
              "      <td>Positive</td>\n",
              "    </tr>\n",
              "    <tr>\n",
              "      <th>26595</th>\n",
              "      <td>36383</td>\n",
              "      <td>81335</td>\n",
              "      <td>NaN</td>\n",
              "      <td>07-04-2020</td>\n",
              "      <td>For all the #VegetableOils markets, the essent...</td>\n",
              "      <td>Positive</td>\n",
              "    </tr>\n",
              "    <tr>\n",
              "      <th>28346</th>\n",
              "      <td>38564</td>\n",
              "      <td>83516</td>\n",
              "      <td>Texas Medical Center, Houston</td>\n",
              "      <td>08-04-2020</td>\n",
              "      <td>It s important to be diligent when leaving you...</td>\n",
              "      <td>Positive</td>\n",
              "    </tr>\n",
              "    <tr>\n",
              "      <th>1774</th>\n",
              "      <td>5960</td>\n",
              "      <td>50912</td>\n",
              "      <td>Singapore</td>\n",
              "      <td>17-03-2020</td>\n",
              "      <td>Dear Singaporeans, we have supplies, please do...</td>\n",
              "      <td>Positive</td>\n",
              "    </tr>\n",
              "  </tbody>\n",
              "</table>\n",
              "</div>"
            ],
            "text/plain": [
              "       UserName  ScreenName                       Location     TweetAt  \\\n",
              "23209     32154       77106       Scotland, United Kingdom  04-04-2020   \n",
              "26595     36383       81335                            NaN  07-04-2020   \n",
              "28346     38564       83516  Texas Medical Center, Houston  08-04-2020   \n",
              "1774       5960       50912                      Singapore  17-03-2020   \n",
              "\n",
              "                                           OriginalTweet Sentiment  \n",
              "23209  Just back from work where we care for the most...  Positive  \n",
              "26595  For all the #VegetableOils markets, the essent...  Positive  \n",
              "28346  It s important to be diligent when leaving you...  Positive  \n",
              "1774   Dear Singaporeans, we have supplies, please do...  Positive  "
            ]
          },
          "execution_count": 403,
          "metadata": {},
          "output_type": "execute_result"
        }
      ],
      "source": [
        "df = pd.read_csv('/content/tweets_coronavirus.csv', encoding='latin-1')\n",
        "df.sample(4)"
      ]
    },
    {
      "cell_type": "markdown",
      "metadata": {
        "id": "m2OiDog9ZBlS"
      },
      "source": [
        "Для каждого твитта указано:\n",
        "\n",
        "\n",
        "*   UserName - имя пользователя, заменено на целое число для анонимности\n",
        "*   ScreenName - отображающееся имя пользователя, заменено на целое число для анонимности\n",
        "*   Location - местоположение\n",
        "*   TweetAt - дата создания твитта\n",
        "*   OriginalTweet - текст твитта\n",
        "*   Sentiment - эмоциональная окраска твитта (целевая переменная)\n",
        "\n"
      ]
    },
    {
      "cell_type": "markdown",
      "metadata": {
        "id": "pZTMseDkhTC7"
      },
      "source": [
        "## Задание 1 Подготовка (0.5 балла)"
      ]
    },
    {
      "cell_type": "markdown",
      "metadata": {
        "id": "Xx2-odn9hdAW"
      },
      "source": [
        "Целевая переменная находится в колонке `Sentiment`.  Преобразуйте ее таким образом, чтобы она стала бинарной: 1 - если у твитта положительная эмоциональная окраска и 0 - если отрицательная."
      ]
    },
    {
      "cell_type": "code",
      "execution_count": 404,
      "metadata": {
        "id": "ZaQKQ1zEjP15"
      },
      "outputs": [
        {
          "data": {
            "text/plain": [
              "array(['Positive', 'Extremely Negative', 'Negative', 'Extremely Positive'],\n",
              "      dtype=object)"
            ]
          },
          "execution_count": 404,
          "metadata": {},
          "output_type": "execute_result"
        }
      ],
      "source": [
        "df[\"Sentiment\"].unique()"
      ]
    },
    {
      "cell_type": "code",
      "execution_count": 405,
      "metadata": {},
      "outputs": [],
      "source": [
        "df[\"Sentiment\"] = (df[\"Sentiment\"] == \"Positive\") | (df[\"Sentiment\"] == \"Extremely Positive\")"
      ]
    },
    {
      "cell_type": "markdown",
      "metadata": {
        "id": "pGq1FxJ-kBo5"
      },
      "source": [
        "Сбалансированы ли классы?"
      ]
    },
    {
      "cell_type": "code",
      "execution_count": 406,
      "metadata": {
        "id": "a7gdNtxckK5V"
      },
      "outputs": [
        {
          "data": {
            "text/plain": [
              "Sentiment\n",
              "True     18046\n",
              "False    15398\n",
              "Name: count, dtype: int64"
            ]
          },
          "execution_count": 406,
          "metadata": {},
          "output_type": "execute_result"
        }
      ],
      "source": [
        "df[\"Sentiment\"].value_counts()"
      ]
    },
    {
      "cell_type": "markdown",
      "metadata": {
        "id": "Ng8BCelMkWb0"
      },
      "source": [
        "**Ответ:** Классы получились достаточно сбалансированными"
      ]
    },
    {
      "cell_type": "markdown",
      "metadata": {
        "id": "qmSIBSsLk5Zz"
      },
      "source": [
        "Выведете на экран информацию о пропусках в данных. Если пропуски присутствуют заполните их строкой 'Unknown'."
      ]
    },
    {
      "cell_type": "code",
      "execution_count": 407,
      "metadata": {
        "id": "UhUVRkR5kxa7"
      },
      "outputs": [
        {
          "data": {
            "text/plain": [
              "UserName            0\n",
              "ScreenName          0\n",
              "Location         7049\n",
              "TweetAt             0\n",
              "OriginalTweet       0\n",
              "Sentiment           0\n",
              "dtype: int64"
            ]
          },
          "execution_count": 407,
          "metadata": {},
          "output_type": "execute_result"
        }
      ],
      "source": [
        "df.isna().sum()"
      ]
    },
    {
      "cell_type": "markdown",
      "metadata": {},
      "source": [
        "7049 пропусков в Location"
      ]
    },
    {
      "cell_type": "code",
      "execution_count": 408,
      "metadata": {},
      "outputs": [
        {
          "name": "stdout",
          "output_type": "stream",
          "text": [
            "<class 'pandas.core.frame.DataFrame'>\n",
            "RangeIndex: 33444 entries, 0 to 33443\n",
            "Data columns (total 6 columns):\n",
            " #   Column         Non-Null Count  Dtype \n",
            "---  ------         --------------  ----- \n",
            " 0   UserName       33444 non-null  int64 \n",
            " 1   ScreenName     33444 non-null  int64 \n",
            " 2   Location       33444 non-null  object\n",
            " 3   TweetAt        33444 non-null  object\n",
            " 4   OriginalTweet  33444 non-null  object\n",
            " 5   Sentiment      33444 non-null  bool  \n",
            "dtypes: bool(1), int64(2), object(3)\n",
            "memory usage: 1.3+ MB\n"
          ]
        }
      ],
      "source": [
        "df.fillna(\"Unknown\", inplace=True)\n",
        "df.info()"
      ]
    },
    {
      "cell_type": "markdown",
      "metadata": {
        "id": "1tzt27tfjUpq"
      },
      "source": [
        "Разделите данные на обучающие и тестовые в соотношении 7 : 3 и `random_state=0`"
      ]
    },
    {
      "cell_type": "code",
      "execution_count": 409,
      "metadata": {
        "id": "xSLOA9tIj9Z6"
      },
      "outputs": [],
      "source": [
        "from sklearn.model_selection import train_test_split\n",
        "\n",
        "train, test = train_test_split(df, random_state=0, test_size=0.3)"
      ]
    },
    {
      "cell_type": "code",
      "execution_count": 410,
      "metadata": {},
      "outputs": [
        {
          "data": {
            "text/plain": [
              "((23410, 6), (10034, 6))"
            ]
          },
          "execution_count": 410,
          "metadata": {},
          "output_type": "execute_result"
        }
      ],
      "source": [
        "train.shape, test.shape"
      ]
    },
    {
      "cell_type": "markdown",
      "metadata": {
        "id": "J9RrPUsJlL60"
      },
      "source": [
        "## Задание 2 Токенизация (3 балла)"
      ]
    },
    {
      "cell_type": "markdown",
      "metadata": {
        "id": "2Dz_b7Xopc_R"
      },
      "source": [
        "Постройте словарь на основе обучающей выборки и посчитайте количество встреч каждого токена с использованием самой простой токенизации - деления текстов по пробельным символам и приведение токенов в нижний регистр"
      ]
    },
    {
      "cell_type": "code",
      "execution_count": 411,
      "metadata": {
        "id": "SFr67WOJphny"
      },
      "outputs": [],
      "source": [
        "merged_text: str = '\\n'.join(df[\"OriginalTweet\"].apply(lambda tw: tw.lower()))\n",
        "all_tokens: List[str] = merged_text.split()\n",
        "\n",
        "def make_token_popularity_dict(tokens: List[str]) -> Dict[str, int]:\n",
        "    d = {tok: 0 for tok in tokens}\n",
        "    for tok in tokens:\n",
        "        d[tok] += 1\n",
        "    return d\n",
        "\n",
        "tokens_dict = make_token_popularity_dict(all_tokens)"
      ]
    },
    {
      "cell_type": "markdown",
      "metadata": {
        "id": "Pe0h2Jqkpnao"
      },
      "source": [
        "Какой размер словаря получился?"
      ]
    },
    {
      "cell_type": "code",
      "execution_count": 412,
      "metadata": {
        "id": "umyENA7EpokD"
      },
      "outputs": [
        {
          "data": {
            "text/plain": [
              "103200"
            ]
          },
          "execution_count": 412,
          "metadata": {},
          "output_type": "execute_result"
        }
      ],
      "source": [
        "len(tokens_dict)"
      ]
    },
    {
      "cell_type": "markdown",
      "metadata": {
        "id": "0d2G1Z-Qpqkd"
      },
      "source": [
        "Выведите 10 самых популярных токенов с количеством встреч каждого из них. Объясните, почему именно эти токены в топе"
      ]
    },
    {
      "cell_type": "code",
      "execution_count": 413,
      "metadata": {
        "id": "Impi32a_pssg"
      },
      "outputs": [
        {
          "name": "stdout",
          "output_type": "stream",
          "text": [
            "Top 10 popular tokens:\n",
            "the: 38250\n",
            "to: 33447\n",
            "and: 20935\n",
            "of: 18578\n",
            "a: 16667\n",
            "in: 16024\n",
            "for: 12193\n",
            "#coronavirus: 11759\n",
            "is: 10596\n",
            "are: 9958\n"
          ]
        }
      ],
      "source": [
        "def print_top_n_popular_tokens(d: Dict[str, int], n: int = 10):\n",
        "    pairs = sorted(d.items(), key=lambda pair: pair[1], reverse=True)\n",
        "    print(f\"Top {n} popular tokens:\")\n",
        "    print('\\n'.join(f\"{word}: {freq}\" for word, freq in pairs[:n]))\n",
        "\n",
        "print_top_n_popular_tokens(tokens_dict)"
      ]
    },
    {
      "cell_type": "markdown",
      "metadata": {
        "id": "ZtuJCD0ApuFd"
      },
      "source": [
        "**Ответ:** слова the, to, and, of, a, in, for, is, are - служебные слова, которые встречаются чаще других слов, т.к. не относятся к конкретной теме, а обязательно присутствуют почти в любом предложении. Слово (в данном случае - тег из твитов) #coronavirus часто встречается в твитах, т.к. их тематика - коронавирус (по аналогии с примером с семинара - в отзывах на банк часто будет встречаться слово 'банк')"
      ]
    },
    {
      "cell_type": "markdown",
      "metadata": {
        "id": "T7DTQDkWsVYp"
      },
      "source": [
        "Удалите стоп-слова из словаря и выведите новый топ-10 токенов (и количество встреч) по популярности.  Что можно сказать  о нем?"
      ]
    },
    {
      "cell_type": "code",
      "execution_count": 414,
      "metadata": {
        "id": "8csSAdgTsnFx"
      },
      "outputs": [
        {
          "name": "stdout",
          "output_type": "stream",
          "text": [
            "Top 10 popular tokens:\n",
            "#coronavirus: 11759\n",
            "prices: 5625\n",
            "food: 5409\n",
            "grocery: 4882\n",
            "supermarket: 4662\n",
            "covid-19: 4504\n",
            "store: 4486\n",
            "#covid19: 3561\n",
            "consumer: 3233\n",
            "&amp;: 3191\n"
          ]
        },
        {
          "name": "stderr",
          "output_type": "stream",
          "text": [
            "[nltk_data] Downloading package stopwords to\n",
            "[nltk_data]     C:\\Users\\Владимир\\AppData\\Roaming\\nltk_data...\n",
            "[nltk_data]   Package stopwords is already up-to-date!\n"
          ]
        }
      ],
      "source": [
        "import nltk\n",
        "nltk.download('stopwords')\n",
        "from nltk.corpus import stopwords\n",
        "\n",
        "for stop_word in stopwords.words():\n",
        "    tokens_dict.pop(stop_word, None)\n",
        "\n",
        "print_top_n_popular_tokens(tokens_dict)"
      ]
    },
    {
      "cell_type": "markdown",
      "metadata": {
        "id": "LZH0x2Lzs-Dh"
      },
      "source": [
        "**Ответ:** тег #coronavirus остался, т.к. не является стоп-словом, а также среди топа самых популярных токенов появился новый - #covid19 (причина такая же, как и у токена #coronavirus). Также есть выражение &amp. Остальные слова связаны с едой, супермаркетами, ценами и потреблением. Возможно, это связано с тем, что во время эпидемии ковида была затруднена покупка продуктов в физическом магазине и люди постили твиты об обредшем большую популярность способе заказа продуктов онлайн с доставкой"
      ]
    },
    {
      "cell_type": "markdown",
      "metadata": {
        "id": "TKSGRyI-uor0"
      },
      "source": [
        "Также выведите 20 самых непопулярных слов (если самых непопулярных слов больше выведите любые 20 из них) Почему эти токены непопулярны, требуется ли как-то дополнительно работать с ними?"
      ]
    },
    {
      "cell_type": "code",
      "execution_count": 415,
      "metadata": {
        "id": "moArbwfvun9t"
      },
      "outputs": [
        {
          "name": "stdout",
          "output_type": "stream",
          "text": [
            "Top 20 unpopular tokens:\n",
            "poss: 1\n",
            "australia:: 1\n",
            "https://t.co/binca9vp8p: 1\n",
            "#confinementgeneral: 1\n",
            "https://t.co/zrlg0z520j: 1\n",
            "litteraly: 1\n",
            "#coronavirusfrance: 1\n",
            "https://t.co/usmualq72n: 1\n",
            "@tim_dodson: 1\n",
            "https://t.co/cfxch7a2lu: 1\n",
            "civics: 1\n",
            "about\".: 1\n",
            "https://t.co/iefdnehgdo: 1\n",
            "https://t.co/kw91zj5o5i: 1\n",
            "prevention,we: 1\n",
            "19?.: 1\n",
            "#govindia: 1\n",
            "#horningsea: 1\n",
            "https://t.co/lsgrxxhjhh: 1\n",
            "https://t.co/8ywakfjexc: 1\n"
          ]
        }
      ],
      "source": [
        "def print_top_n_unpopular_tokens(d: dict, n: int = 20):\n",
        "    pairs = sorted(d.items(), key=lambda pair: pair[1], reverse=False)\n",
        "    print(f\"Top {n} unpopular tokens:\")\n",
        "    print('\\n'.join(f\"{word}: {freq}\" for word, freq in pairs[:n]))\n",
        "    \n",
        "print_top_n_unpopular_tokens(tokens_dict)"
      ]
    },
    {
      "cell_type": "markdown",
      "metadata": {
        "id": "uRp3J1gQunlR"
      },
      "source": [
        "**Ответ:** самые непопулярные токены содержат символы #@:? (например, никнеймы, теги, ссылки, числа со знаками, разделяющими дробную часть и разряды, точки в конце предложения, слова, разделённые только запятой, без пробела). Возможно, имеет смысл удалить точки после слов, стоящих в конце предложения и отдельно обрабатывать ссылки\n",
        "\n"
      ]
    },
    {
      "cell_type": "markdown",
      "metadata": {
        "id": "wx9LQOSPzvjV"
      },
      "source": [
        "Теперь воспользуемся токенайзером получше - TweetTokenizer из библиотеки nltk. Примените его и посмотрите на топ-10 популярных слов. Чем он отличается от топа, который получался раньше? Почему?"
      ]
    },
    {
      "cell_type": "code",
      "execution_count": 416,
      "metadata": {
        "id": "2G1UkyVxzvFY"
      },
      "outputs": [
        {
          "name": "stdout",
          "output_type": "stream",
          "text": [
            "Top 10 popular tokens:\n",
            "the: 38499\n",
            ".: 34264\n",
            "to: 33588\n",
            ",: 25142\n",
            "and: 21134\n",
            "of: 18622\n",
            "a: 16863\n",
            "in: 16232\n",
            "?: 13730\n",
            "#coronavirus: 12587\n"
          ]
        }
      ],
      "source": [
        "from nltk.tokenize import TweetTokenizer\n",
        "\n",
        "new_dict = make_token_popularity_dict(TweetTokenizer().tokenize(merged_text))\n",
        "print_top_n_popular_tokens(new_dict)"
      ]
    },
    {
      "cell_type": "markdown",
      "metadata": {
        "id": "50eVUnJN1Zxl"
      },
      "source": [
        "**Ответ:** Токенайзер по умолчанию не удяляет стоп-слова и пункуацию, а они встречаются в твитах достаточно часто"
      ]
    },
    {
      "cell_type": "markdown",
      "metadata": {
        "id": "1gqQgiMs11bs"
      },
      "source": [
        "Удалите из словаря стоп-слова и пунктуацию, посмотрите на новый топ-10 слов с количеством встреч, есть ли теперь в нем что-то не похожее на слова?"
      ]
    },
    {
      "cell_type": "code",
      "execution_count": 417,
      "metadata": {
        "id": "0yHWdFrp0Mup"
      },
      "outputs": [
        {
          "name": "stdout",
          "output_type": "stream",
          "text": [
            "Top 10 popular tokens:\n",
            "#coronavirus: 12587\n",
            "â: 10498\n",
            ": 10361\n",
            "19: 10142\n",
            "covid: 8832\n",
            "prices: 6644\n",
            "food: 6213\n",
            ": 6190\n",
            "store: 5494\n",
            "supermarket: 5435\n"
          ]
        }
      ],
      "source": [
        "from string import punctuation\n",
        "\n",
        "for stop_word_or_punc in (stopwords.words() + list(punctuation)):\n",
        "    new_dict.pop(stop_word_or_punc, None)\n",
        "\n",
        "print_top_n_popular_tokens(new_dict)"
      ]
    },
    {
      "cell_type": "markdown",
      "metadata": {
        "id": "8ZJqXELP_Yxy"
      },
      "source": [
        "**Ответ:** токенайзер отделил 19 отдельно от тега (встречается часто, т.к. это год эпидемии), а также количество тегов #coronavirus теперь 12587 (11759 из них - от тега #coronavirus19). Также, появилось несколько дополнительных символов из части таблицы Unicode, которые не попадают в стандартную таблицу ascii (ord(c) <= 127)"
      ]
    },
    {
      "cell_type": "markdown",
      "metadata": {
        "id": "rzXjMsSB_kXB"
      },
      "source": [
        "Удалите из словаря токены из одного символа, с позицией в таблице Unicode 128 и более (`ord(x) >= 128`)\n",
        "\n",
        "Выведите топ-10 самых популярных и топ-20 непопулярных слов. Чем полученные топы отличаются от итоговых топов, полученных при использовании токенизации по пробелам? Что теперь лучше, а что хуже?"
      ]
    },
    {
      "cell_type": "code",
      "execution_count": 418,
      "metadata": {
        "id": "1695hlkS_1-J"
      },
      "outputs": [
        {
          "name": "stdout",
          "output_type": "stream",
          "text": [
            "Top 10 popular tokens:\n",
            "#coronavirus: 12587\n",
            "19: 10142\n",
            "covid: 8832\n",
            "prices: 6644\n",
            "food: 6213\n",
            "store: 5494\n",
            "supermarket: 5435\n",
            "grocery: 4959\n",
            "#covid19: 3726\n",
            "consumer: 3367\n",
            "\n",
            "Top 20 unpopular tokens:\n",
            "poss: 1\n",
            "https://t.co/binca9vp8p: 1\n",
            "#confinementgeneral: 1\n",
            "https://t.co/zrlg0z520j: 1\n",
            "litteraly: 1\n",
            "#coronavirusfrance: 1\n",
            "https://t.co/usmualq72n: 1\n",
            "@tim_dodson: 1\n",
            "https://t.co/cfxch7a2lu: 1\n",
            "civics: 1\n",
            "https://t.co/iefdnehgdo: 1\n",
            "https://t.co/kw91zj5o5i: 1\n",
            "#govindia: 1\n",
            "#horningsea: 1\n",
            "https://t.co/lsgrxxhjhh: 1\n",
            "https://t.co/8ywakfjexc: 1\n",
            "adara: 1\n",
            "https://t.co/pna797jdkv: 1\n",
            "https://t.co/dqox6usihz: 1\n",
            "https://t.co/9idzsis5oq: 1\n"
          ]
        }
      ],
      "source": [
        "new_dict = dict(filter(lambda token_with_freq: len(token_with_freq[0]) != 1 or ord(token_with_freq[0]) < 128, new_dict.items()))\n",
        "\n",
        "print_top_n_popular_tokens(new_dict)\n",
        "print()\n",
        "print_top_n_unpopular_tokens(new_dict)"
      ]
    },
    {
      "cell_type": "markdown",
      "metadata": {
        "id": "KzjHAKIlDvc6"
      },
      "source": [
        "**Ответ:** # результаты идентичны, однако в данном случае в топ попало число 19, которое в данном случае не будет полезно (т.к. твиты на тему коронавируса 2019 года)"
      ]
    },
    {
      "cell_type": "markdown",
      "metadata": {
        "id": "EcDf9_6HB2zm"
      },
      "source": [
        "Выведите топ-10 популярных хештегов с количеством встреч. Что можно сказать о них?"
      ]
    },
    {
      "cell_type": "code",
      "execution_count": 419,
      "metadata": {
        "id": "zk4fygCUBw3l"
      },
      "outputs": [
        {
          "name": "stdout",
          "output_type": "stream",
          "text": [
            "Top 10 popular hashtags:\n",
            "#coronavirus: 12587\n",
            "#covid19: 3726\n",
            "#covid_19: 2525\n",
            "#covid2019: 1370\n",
            "#toiletpaper: 1070\n",
            "#covid: 919\n",
            "#socialdistancing: 701\n",
            "#coronacrisis: 627\n",
            "#pandemic: 359\n",
            "#coronaviruspandemic: 344\n"
          ]
        }
      ],
      "source": [
        "def print_top_n_popular_hashtags(d: Dict[str, int], n: int = 10):\n",
        "    hashtags_with_freq = [token_with_freq for token_with_freq in d.items() if token_with_freq[0][0] == '#']\n",
        "    hashtags_with_freq.sort(key=lambda pair: pair[1], reverse=True)\n",
        "    n = min(n, len(hashtags_with_freq))\n",
        "    print(f\"Top {n} popular hashtags:\")\n",
        "    print('\\n'.join(f\"{word}: {freq}\" for word, freq in hashtags_with_freq[:n]))\n",
        "\n",
        "print_top_n_popular_hashtags(new_dict)"
      ]
    },
    {
      "cell_type": "markdown",
      "metadata": {
        "id": "-6NeNWBkDxM7"
      },
      "source": [
        "**Ответ:** почти все хештеги явно указывают на эпидемию коронавируса, а те, что не указывают явно, описывают затруднения, вызванные эпидемией (например, #toiletpaper и #socialdistancing)"
      ]
    },
    {
      "cell_type": "markdown",
      "metadata": {
        "id": "LLYBg7caD5GA"
      },
      "source": [
        "То же самое проделайте для ссылок на сайт https://t.co Сравнима ли популярность ссылок с популярностью хештегов? Будет ли информация о ссылке на конкретную страницу полезна?"
      ]
    },
    {
      "cell_type": "code",
      "execution_count": 420,
      "metadata": {
        "id": "MXbm1oeaCK9S"
      },
      "outputs": [
        {
          "name": "stdout",
          "output_type": "stream",
          "text": [
            "Top 10 popular links with prefix https://t.co:\n",
            "https://t.co/oxa7swtond: 6\n",
            "https://t.co/g63rp042ho: 5\n",
            "https://t.co/r7sagojsjg: 4\n",
            "https://t.co/wrlhyzizaa: 4\n",
            "https://t.co/ymsemlvttd: 4\n",
            "https://t.co/3kfuiojxep: 4\n",
            "https://t.co/oi39zsanq8: 4\n",
            "https://t.co/6yvykiab2c: 4\n",
            "https://t.co/xpcm2xkj4o: 4\n",
            "https://t.co/gu6b4xpqp4: 4\n"
          ]
        }
      ],
      "source": [
        "def print_top_n_popular_links(d: Dict[str, int], link_prefix: str = \"https://t.co\", n: int = 10):\n",
        "    assert isinstance(link_prefix, str) and link_prefix\n",
        "\n",
        "    links_with_freq = [token_with_freq for token_with_freq in d.items() if token_with_freq[0].startswith(link_prefix)]\n",
        "    links_with_freq.sort(key=lambda pair: pair[1], reverse=True)\n",
        "    n = min(n, len(links_with_freq))\n",
        "    print(f\"Top {n} popular links with prefix {link_prefix}:\")\n",
        "    print('\\n'.join(f\"{word}: {freq}\" for word, freq in links_with_freq[:n]))\n",
        "\n",
        "print_top_n_popular_links(new_dict)"
      ]
    },
    {
      "cell_type": "markdown",
      "metadata": {
        "id": "at6lRYZ8A07N"
      },
      "source": [
        "**Ответ:** сама по себе ссылка как терм в тексте не несёт полезной информации, однако, если указывает на валидный ресурс, может быть использована для дополнительного изучения тематики текстов (формально, это не входит в решаемую задачу классификации отзыва как последовательность слов)"
      ]
    },
    {
      "cell_type": "markdown",
      "metadata": {
        "id": "IOGdUU1kBU1D"
      },
      "source": [
        "Используем опыт предыдущих экспериментов и напишем собственный токенайзер, улучшив TweetTokenizer. Функция tokenize должна:\n",
        "\n",
        "\n",
        "\n",
        "*   Привести текст в нижний регистр\n",
        "*   Применить TweetTokenizer для изначального выделения токенов\n",
        "*   Удалить стоп-слова, пунктуацию, токены из одного символа, с позицией в таблице Unicode 128 и более и ссылки на t.co\n",
        "\n"
      ]
    },
    {
      "cell_type": "code",
      "execution_count": 421,
      "metadata": {
        "id": "ctEsB6xkFrrK"
      },
      "outputs": [],
      "source": [
        "BANNED_TOKENS = set(stopwords.words(\"english\")) | set(punctuation)\n",
        "\n",
        "def custom_tokenizer(text: str) -> List[str]:\n",
        "    return [\n",
        "        token for token in TweetTokenizer().tokenize(text.lower())\n",
        "            if token not in BANNED_TOKENS \\\n",
        "                and not token.startswith(\"https://t.co\") \\\n",
        "                    and not (len(token) == 1 and ord(token) >= 128)\n",
        "    ]\n"
      ]
    },
    {
      "cell_type": "code",
      "execution_count": 422,
      "metadata": {
        "colab": {
          "base_uri": "https://localhost:8080/"
        },
        "id": "XwbgtYkJGYym",
        "outputId": "5808765b-3448-45e6-ccc1-7cd65f6371ef"
      },
      "outputs": [
        {
          "data": {
            "text/plain": [
              "['sample', 'text', '@sample_text', '#sampletext']"
            ]
          },
          "execution_count": 422,
          "metadata": {},
          "output_type": "execute_result"
        }
      ],
      "source": [
        "custom_tokenizer('This is sample text!!!! @Sample_text I, \\x92\\x92 https://t.co/sample  #sampletext')"
      ]
    },
    {
      "cell_type": "markdown",
      "metadata": {
        "id": "wURVABmXHk97"
      },
      "source": [
        "## Задание 3 Векторизация текстов (2 балла)"
      ]
    },
    {
      "cell_type": "markdown",
      "metadata": {
        "id": "H44iXkoHIQfN"
      },
      "source": [
        "Обучите CountVectorizer с использованием custom_tokenizer в качестве токенайзера. Как размер полученного словаря соотносится с размером изначального словаря из начала задания 2?"
      ]
    },
    {
      "cell_type": "code",
      "execution_count": 423,
      "metadata": {
        "colab": {
          "base_uri": "https://localhost:8080/"
        },
        "id": "gHn_limQl3BI",
        "outputId": "8e9c1826-319f-4376-f06e-c30c2eb82648"
      },
      "outputs": [
        {
          "name": "stderr",
          "output_type": "stream",
          "text": [
            "e:\\Programs\\anaconda3\\Lib\\site-packages\\sklearn\\feature_extraction\\text.py:525: UserWarning: The parameter 'token_pattern' will not be used since 'tokenizer' is not None'\n",
            "  warnings.warn(\n"
          ]
        },
        {
          "name": "stdout",
          "output_type": "stream",
          "text": [
            "45308\n"
          ]
        }
      ],
      "source": [
        "from sklearn.feature_extraction.text import CountVectorizer\n",
        "\n",
        "cv = CountVectorizer(tokenizer=custom_tokenizer).fit(train.OriginalTweet)\n",
        "print(len(cv.vocabulary_))"
      ]
    },
    {
      "cell_type": "markdown",
      "metadata": {
        "id": "gsfmaSGoItUm"
      },
      "source": [
        "**Ответ:** размер словаря уменьшился более, чем в 2 раза (103200 -> 44517) (примерно в 2.31822 раза)"
      ]
    },
    {
      "cell_type": "markdown",
      "metadata": {
        "id": "lm6UHNmqKZT0"
      },
      "source": [
        "Посмотрим на какой-нибудь конкретный твитт:"
      ]
    },
    {
      "cell_type": "code",
      "execution_count": 424,
      "metadata": {
        "id": "aJVjjfqOJh8m"
      },
      "outputs": [
        {
          "data": {
            "text/plain": [
              "('Nice one @SkyNews lets not panic but show ppl in france queueing for food!!! #CoronavirusOutbreak #COVID2019 brainless!! Ffs',\n",
              " False)"
            ]
          },
          "execution_count": 424,
          "metadata": {},
          "output_type": "execute_result"
        }
      ],
      "source": [
        "ind = 9023\n",
        "train.iloc[ind]['OriginalTweet'], train.iloc[ind]['Sentiment']"
      ]
    },
    {
      "cell_type": "markdown",
      "metadata": {
        "id": "PBMIHBI5KdaS"
      },
      "source": [
        "Автор твитта не доволен ситуацией с едой во Франции и текст имеет резко негативную окраску.\n",
        "\n",
        "Примените обученный CountVectorizer для векторизации данного текста, и попытайтесь определить самый важный токен и самый неважный токен (токен, компонента которого в векторе максимальна/минимальна, без учета 0). Хорошо ли они определились, почему?"
      ]
    },
    {
      "cell_type": "code",
      "execution_count": 425,
      "metadata": {
        "id": "7NcAllaEKsJj"
      },
      "outputs": [
        {
          "data": {
            "text/plain": [
              "<1x45308 sparse matrix of type '<class 'numpy.int64'>'\n",
              "\twith 14 stored elements in Compressed Sparse Row format>"
            ]
          },
          "execution_count": 425,
          "metadata": {},
          "output_type": "execute_result"
        }
      ],
      "source": [
        "vec = cv.transform([train.iloc[ind]['OriginalTweet']])\n",
        "vec"
      ]
    },
    {
      "cell_type": "code",
      "execution_count": 426,
      "metadata": {},
      "outputs": [
        {
          "data": {
            "text/html": [
              "<div>\n",
              "<style scoped>\n",
              "    .dataframe tbody tr th:only-of-type {\n",
              "        vertical-align: middle;\n",
              "    }\n",
              "\n",
              "    .dataframe tbody tr th {\n",
              "        vertical-align: top;\n",
              "    }\n",
              "\n",
              "    .dataframe thead th {\n",
              "        text-align: right;\n",
              "    }\n",
              "</style>\n",
              "<table border=\"1\" class=\"dataframe\">\n",
              "  <thead>\n",
              "    <tr style=\"text-align: right;\">\n",
              "      <th></th>\n",
              "      <th>#coronavirusoutbreak</th>\n",
              "      <th>#covid2019</th>\n",
              "      <th>@skynews</th>\n",
              "      <th>brainless</th>\n",
              "      <th>ffs</th>\n",
              "      <th>food</th>\n",
              "      <th>france</th>\n",
              "      <th>lets</th>\n",
              "      <th>nice</th>\n",
              "      <th>one</th>\n",
              "      <th>panic</th>\n",
              "      <th>ppl</th>\n",
              "      <th>queueing</th>\n",
              "      <th>show</th>\n",
              "    </tr>\n",
              "  </thead>\n",
              "  <tbody>\n",
              "    <tr>\n",
              "      <th>0</th>\n",
              "      <td>1</td>\n",
              "      <td>1</td>\n",
              "      <td>1</td>\n",
              "      <td>1</td>\n",
              "      <td>1</td>\n",
              "      <td>1</td>\n",
              "      <td>1</td>\n",
              "      <td>1</td>\n",
              "      <td>1</td>\n",
              "      <td>1</td>\n",
              "      <td>1</td>\n",
              "      <td>1</td>\n",
              "      <td>1</td>\n",
              "      <td>1</td>\n",
              "    </tr>\n",
              "  </tbody>\n",
              "</table>\n",
              "</div>"
            ],
            "text/plain": [
              "   #coronavirusoutbreak  #covid2019  @skynews  brainless  ffs  food  france  \\\n",
              "0                     1           1         1          1    1     1       1   \n",
              "\n",
              "   lets  nice  one  panic  ppl  queueing  show  \n",
              "0     1     1    1      1    1         1     1  "
            ]
          },
          "execution_count": 426,
          "metadata": {},
          "output_type": "execute_result"
        }
      ],
      "source": [
        "indices = vec.nonzero()\n",
        "pd.DataFrame(np.array(vec[indices]), columns=cv.get_feature_names_out()[indices[1]])"
      ]
    },
    {
      "cell_type": "markdown",
      "metadata": {
        "id": "TpEsl1k_NF4T"
      },
      "source": [
        "**Ответ:** # У всех слов из текста ненулевые компоненты вектора равны 1, т.к. каждое слово в данном твите встречается по одному разу"
      ]
    },
    {
      "cell_type": "markdown",
      "metadata": {
        "id": "w4DsEQpLO3J6"
      },
      "source": [
        "Теперь примените TfidfVectorizer и  определите самый важный/неважный токены. Хорошо ли определились, почему?"
      ]
    },
    {
      "cell_type": "code",
      "execution_count": 427,
      "metadata": {
        "id": "uSNzdK3ENGB3"
      },
      "outputs": [
        {
          "name": "stderr",
          "output_type": "stream",
          "text": [
            "e:\\Programs\\anaconda3\\Lib\\site-packages\\sklearn\\feature_extraction\\text.py:525: UserWarning: The parameter 'token_pattern' will not be used since 'tokenizer' is not None'\n",
            "  warnings.warn(\n"
          ]
        }
      ],
      "source": [
        "from sklearn.feature_extraction.text import TfidfVectorizer\n",
        "\n",
        "tfidfv = TfidfVectorizer(tokenizer=custom_tokenizer).fit(train.OriginalTweet)\n",
        "assert len(tfidfv.vocabulary_) == len(cv.vocabulary_)"
      ]
    },
    {
      "cell_type": "code",
      "execution_count": 428,
      "metadata": {},
      "outputs": [
        {
          "data": {
            "text/plain": [
              "'Nice one @SkyNews lets not panic but show ppl in france queueing for food!!! #CoronavirusOutbreak #COVID2019 brainless!! Ffs'"
            ]
          },
          "execution_count": 428,
          "metadata": {},
          "output_type": "execute_result"
        }
      ],
      "source": [
        "tweet = train.iloc[ind]['OriginalTweet']\n",
        "vec = tfidfv.transform([tweet])\n",
        "tweet"
      ]
    },
    {
      "cell_type": "code",
      "execution_count": 429,
      "metadata": {},
      "outputs": [
        {
          "data": {
            "text/plain": [
              "<1x45308 sparse matrix of type '<class 'numpy.float64'>'\n",
              "\twith 14 stored elements in Compressed Sparse Row format>"
            ]
          },
          "execution_count": 429,
          "metadata": {},
          "output_type": "execute_result"
        }
      ],
      "source": [
        "vec"
      ]
    },
    {
      "cell_type": "code",
      "execution_count": 430,
      "metadata": {},
      "outputs": [
        {
          "data": {
            "text/html": [
              "<div>\n",
              "<style scoped>\n",
              "    .dataframe tbody tr th:only-of-type {\n",
              "        vertical-align: middle;\n",
              "    }\n",
              "\n",
              "    .dataframe tbody tr th {\n",
              "        vertical-align: top;\n",
              "    }\n",
              "\n",
              "    .dataframe thead th {\n",
              "        text-align: right;\n",
              "    }\n",
              "</style>\n",
              "<table border=\"1\" class=\"dataframe\">\n",
              "  <thead>\n",
              "    <tr style=\"text-align: right;\">\n",
              "      <th></th>\n",
              "      <th>show</th>\n",
              "      <th>queueing</th>\n",
              "      <th>ppl</th>\n",
              "      <th>panic</th>\n",
              "      <th>one</th>\n",
              "      <th>nice</th>\n",
              "      <th>lets</th>\n",
              "      <th>france</th>\n",
              "      <th>food</th>\n",
              "      <th>ffs</th>\n",
              "      <th>brainless</th>\n",
              "      <th>@skynews</th>\n",
              "      <th>#covid2019</th>\n",
              "      <th>#coronavirusoutbreak</th>\n",
              "    </tr>\n",
              "  </thead>\n",
              "  <tbody>\n",
              "    <tr>\n",
              "      <th>0</th>\n",
              "      <td>0.244065</td>\n",
              "      <td>0.354346</td>\n",
              "      <td>0.255006</td>\n",
              "      <td>0.147595</td>\n",
              "      <td>0.163067</td>\n",
              "      <td>0.254273</td>\n",
              "      <td>0.301211</td>\n",
              "      <td>0.320473</td>\n",
              "      <td>0.113289</td>\n",
              "      <td>0.324474</td>\n",
              "      <td>0.386764</td>\n",
              "      <td>0.310426</td>\n",
              "      <td>0.168252</td>\n",
              "      <td>0.225843</td>\n",
              "    </tr>\n",
              "  </tbody>\n",
              "</table>\n",
              "</div>"
            ],
            "text/plain": [
              "       show  queueing       ppl     panic       one      nice      lets  \\\n",
              "0  0.244065  0.354346  0.255006  0.147595  0.163067  0.254273  0.301211   \n",
              "\n",
              "     france      food       ffs  brainless  @skynews  #covid2019  \\\n",
              "0  0.320473  0.113289  0.324474   0.386764  0.310426    0.168252   \n",
              "\n",
              "   #coronavirusoutbreak  \n",
              "0              0.225843  "
            ]
          },
          "execution_count": 430,
          "metadata": {},
          "output_type": "execute_result"
        }
      ],
      "source": [
        "indices = vec.nonzero()\n",
        "pd.DataFrame(np.array(vec[indices]), columns=cv.get_feature_names_out()[indices[1]])"
      ]
    },
    {
      "cell_type": "markdown",
      "metadata": {
        "id": "NYao_UhqQADm"
      },
      "source": [
        "**Ответ:** наибольшее значение меры TF-IDF получилось у слов brainless и queueing, что может означать негативный отзыв (бездумно может означать \"плохо\", простаивание в очереди => негативные эмоции). Также, ffs (for fuck's sake) получило относительно большое значение меры, и эта фраза также может означать негативный окрас отзыва. С другой стороны, название страны также получило относительно большое значение меры, хотя оно вряд ли влияет на эмоциональный окрас отзыва"
      ]
    },
    {
      "cell_type": "markdown",
      "metadata": {
        "id": "LGRJPqfWSesQ"
      },
      "source": [
        "Найдите какой-нибудь положительно окрашенный твитт, где TfidfVectorizer хорошо (полезно для определения окраски) выделяет важный токен, поясните пример.\n",
        "\n",
        "*Подсказка:* явно положительные твитты можно искать при помощи положительных слов (good, great, amazing и т. д.)"
      ]
    },
    {
      "cell_type": "code",
      "execution_count": 431,
      "metadata": {
        "colab": {
          "base_uri": "https://localhost:8080/",
          "height": 53
        },
        "id": "bRbQ2CHiSuJI",
        "outputId": "c4b34a7d-1076-4e1e-ad5c-9466fd2097c2"
      },
      "outputs": [
        {
          "data": {
            "text/html": [
              "<div>\n",
              "<style scoped>\n",
              "    .dataframe tbody tr th:only-of-type {\n",
              "        vertical-align: middle;\n",
              "    }\n",
              "\n",
              "    .dataframe tbody tr th {\n",
              "        vertical-align: top;\n",
              "    }\n",
              "\n",
              "    .dataframe thead th {\n",
              "        text-align: right;\n",
              "    }\n",
              "</style>\n",
              "<table border=\"1\" class=\"dataframe\">\n",
              "  <thead>\n",
              "    <tr style=\"text-align: right;\">\n",
              "      <th></th>\n",
              "      <th>UserName</th>\n",
              "      <th>ScreenName</th>\n",
              "      <th>Location</th>\n",
              "      <th>TweetAt</th>\n",
              "      <th>OriginalTweet</th>\n",
              "      <th>Sentiment</th>\n",
              "    </tr>\n",
              "  </thead>\n",
              "  <tbody>\n",
              "    <tr>\n",
              "      <th>21541</th>\n",
              "      <td>30079</td>\n",
              "      <td>75031</td>\n",
              "      <td>Unknown</td>\n",
              "      <td>02-04-2020</td>\n",
              "      <td>To all my marketers friends, this is a very go...</td>\n",
              "      <td>True</td>\n",
              "    </tr>\n",
              "    <tr>\n",
              "      <th>20314</th>\n",
              "      <td>28576</td>\n",
              "      <td>73528</td>\n",
              "      <td>New Delhi, India</td>\n",
              "      <td>27-03-2020</td>\n",
              "      <td>India on lockdown...I'm more worried by death ...</td>\n",
              "      <td>True</td>\n",
              "    </tr>\n",
              "    <tr>\n",
              "      <th>192</th>\n",
              "      <td>4035</td>\n",
              "      <td>48987</td>\n",
              "      <td>San Diego, CA</td>\n",
              "      <td>16-03-2020</td>\n",
              "      <td>What's a good way to support grocery store, me...</td>\n",
              "      <td>True</td>\n",
              "    </tr>\n",
              "    <tr>\n",
              "      <th>5140</th>\n",
              "      <td>10048</td>\n",
              "      <td>55000</td>\n",
              "      <td>New Zealand</td>\n",
              "      <td>19-03-2020</td>\n",
              "      <td>Countdown supermarket limiting some goods: You...</td>\n",
              "      <td>True</td>\n",
              "    </tr>\n",
              "    <tr>\n",
              "      <th>4066</th>\n",
              "      <td>8742</td>\n",
              "      <td>53694</td>\n",
              "      <td>Adelaide, South Australia</td>\n",
              "      <td>18-03-2020</td>\n",
              "      <td>BREAKING: WeÃÂre giving supermarkets the opt...</td>\n",
              "      <td>True</td>\n",
              "    </tr>\n",
              "    <tr>\n",
              "      <th>...</th>\n",
              "      <td>...</td>\n",
              "      <td>...</td>\n",
              "      <td>...</td>\n",
              "      <td>...</td>\n",
              "      <td>...</td>\n",
              "      <td>...</td>\n",
              "    </tr>\n",
              "    <tr>\n",
              "      <th>18987</th>\n",
              "      <td>26911</td>\n",
              "      <td>71863</td>\n",
              "      <td>Unknown</td>\n",
              "      <td>25-03-2020</td>\n",
              "      <td>@AmyPoythress I hope you &amp;amp; your family rem...</td>\n",
              "      <td>True</td>\n",
              "    </tr>\n",
              "    <tr>\n",
              "      <th>469</th>\n",
              "      <td>4365</td>\n",
              "      <td>49317</td>\n",
              "      <td>TaÃÂ¯wan</td>\n",
              "      <td>16-03-2020</td>\n",
              "      <td>#COVID19 19 A friend of mine in the US works a...</td>\n",
              "      <td>True</td>\n",
              "    </tr>\n",
              "    <tr>\n",
              "      <th>15620</th>\n",
              "      <td>22797</td>\n",
              "      <td>67749</td>\n",
              "      <td>Unknown</td>\n",
              "      <td>24-03-2020</td>\n",
              "      <td>The markets aren t collapsing bc of democrats ...</td>\n",
              "      <td>True</td>\n",
              "    </tr>\n",
              "    <tr>\n",
              "      <th>18819</th>\n",
              "      <td>26706</td>\n",
              "      <td>71658</td>\n",
              "      <td>Chicago, IL</td>\n",
              "      <td>25-03-2020</td>\n",
              "      <td>Online grocery shopping? Here are some good ti...</td>\n",
              "      <td>True</td>\n",
              "    </tr>\n",
              "    <tr>\n",
              "      <th>18430</th>\n",
              "      <td>26221</td>\n",
              "      <td>71173</td>\n",
              "      <td>Unknown</td>\n",
              "      <td>25-03-2020</td>\n",
              "      <td>It's a shame more corporate Masters of the Uni...</td>\n",
              "      <td>True</td>\n",
              "    </tr>\n",
              "  </tbody>\n",
              "</table>\n",
              "<p>948 rows × 6 columns</p>\n",
              "</div>"
            ],
            "text/plain": [
              "       UserName  ScreenName                   Location     TweetAt  \\\n",
              "21541     30079       75031                    Unknown  02-04-2020   \n",
              "20314     28576       73528           New Delhi, India  27-03-2020   \n",
              "192        4035       48987              San Diego, CA  16-03-2020   \n",
              "5140      10048       55000                New Zealand  19-03-2020   \n",
              "4066       8742       53694  Adelaide, South Australia  18-03-2020   \n",
              "...         ...         ...                        ...         ...   \n",
              "18987     26911       71863                    Unknown  25-03-2020   \n",
              "469        4365       49317                  TaÃÂ¯wan  16-03-2020   \n",
              "15620     22797       67749                    Unknown  24-03-2020   \n",
              "18819     26706       71658                Chicago, IL  25-03-2020   \n",
              "18430     26221       71173                    Unknown  25-03-2020   \n",
              "\n",
              "                                           OriginalTweet  Sentiment  \n",
              "21541  To all my marketers friends, this is a very go...       True  \n",
              "20314  India on lockdown...I'm more worried by death ...       True  \n",
              "192    What's a good way to support grocery store, me...       True  \n",
              "5140   Countdown supermarket limiting some goods: You...       True  \n",
              "4066   BREAKING: WeÃÂre giving supermarkets the opt...       True  \n",
              "...                                                  ...        ...  \n",
              "18987  @AmyPoythress I hope you &amp; your family rem...       True  \n",
              "469    #COVID19 19 A friend of mine in the US works a...       True  \n",
              "15620  The markets aren t collapsing bc of democrats ...       True  \n",
              "18819  Online grocery shopping? Here are some good ti...       True  \n",
              "18430  It's a shame more corporate Masters of the Uni...       True  \n",
              "\n",
              "[948 rows x 6 columns]"
            ]
          },
          "execution_count": 431,
          "metadata": {},
          "output_type": "execute_result"
        }
      ],
      "source": [
        "train[train['OriginalTweet'].apply(lambda x: 'good' in x or 'great' in x or 'amazing' in x or 'awesome' in x) & (train['Sentiment'] == 1)]"
      ]
    },
    {
      "cell_type": "code",
      "execution_count": 432,
      "metadata": {
        "id": "jSjbKPCWk87K"
      },
      "outputs": [
        {
          "data": {
            "text/plain": [
              "'To all my marketers friends, this is a very good article by @McKinsey regarding customer sentiment during the #coronavirus crisis. Are you ready to change your whole marketing strategy? #MarketingStrategy \\r\\r\\r\\nhttps://t.co/plN1H6qYLw'"
            ]
          },
          "execution_count": 432,
          "metadata": {},
          "output_type": "execute_result"
        }
      ],
      "source": [
        "tweet = train['OriginalTweet'][train['OriginalTweet'].apply(lambda x: 'good' in x) & (train['Sentiment'] == 1)].tolist()[0]\n",
        "vec = tfidfv.transform([tweet])\n",
        "tweet"
      ]
    },
    {
      "cell_type": "code",
      "execution_count": 433,
      "metadata": {},
      "outputs": [
        {
          "data": {
            "text/html": [
              "<div>\n",
              "<style scoped>\n",
              "    .dataframe tbody tr th:only-of-type {\n",
              "        vertical-align: middle;\n",
              "    }\n",
              "\n",
              "    .dataframe tbody tr th {\n",
              "        vertical-align: top;\n",
              "    }\n",
              "\n",
              "    .dataframe thead th {\n",
              "        text-align: right;\n",
              "    }\n",
              "</style>\n",
              "<table border=\"1\" class=\"dataframe\">\n",
              "  <thead>\n",
              "    <tr style=\"text-align: right;\">\n",
              "      <th></th>\n",
              "      <th>whole</th>\n",
              "      <th>strategy</th>\n",
              "      <th>sentiment</th>\n",
              "      <th>regarding</th>\n",
              "      <th>ready</th>\n",
              "      <th>marketing</th>\n",
              "      <th>marketers</th>\n",
              "      <th>good</th>\n",
              "      <th>friends</th>\n",
              "      <th>customer</th>\n",
              "      <th>crisis</th>\n",
              "      <th>change</th>\n",
              "      <th>article</th>\n",
              "      <th>@mckinsey</th>\n",
              "      <th>#marketingstrategy</th>\n",
              "      <th>#coronavirus</th>\n",
              "    </tr>\n",
              "  </thead>\n",
              "  <tbody>\n",
              "    <tr>\n",
              "      <th>0</th>\n",
              "      <td>0.237253</td>\n",
              "      <td>0.283266</td>\n",
              "      <td>0.261358</td>\n",
              "      <td>0.253786</td>\n",
              "      <td>0.24139</td>\n",
              "      <td>0.256918</td>\n",
              "      <td>0.310077</td>\n",
              "      <td>0.179075</td>\n",
              "      <td>0.229644</td>\n",
              "      <td>0.235606</td>\n",
              "      <td>0.158981</td>\n",
              "      <td>0.222324</td>\n",
              "      <td>0.237534</td>\n",
              "      <td>0.304912</td>\n",
              "      <td>0.374217</td>\n",
              "      <td>0.076699</td>\n",
              "    </tr>\n",
              "  </tbody>\n",
              "</table>\n",
              "</div>"
            ],
            "text/plain": [
              "      whole  strategy  sentiment  regarding    ready  marketing  marketers  \\\n",
              "0  0.237253  0.283266   0.261358   0.253786  0.24139   0.256918   0.310077   \n",
              "\n",
              "       good   friends  customer    crisis    change   article  @mckinsey  \\\n",
              "0  0.179075  0.229644  0.235606  0.158981  0.222324  0.237534   0.304912   \n",
              "\n",
              "   #marketingstrategy  #coronavirus  \n",
              "0            0.374217      0.076699  "
            ]
          },
          "execution_count": 433,
          "metadata": {},
          "output_type": "execute_result"
        }
      ],
      "source": [
        "indices = vec.nonzero()\n",
        "pd.DataFrame(np.array(vec[indices]), columns=cv.get_feature_names_out()[indices[1]])"
      ]
    },
    {
      "cell_type": "markdown",
      "metadata": {
        "id": "JTv9ST2_U6NA"
      },
      "source": [
        "**Ответ:** наибольшее значение меры получил тег #marketingstrategy, никнейм @mckinsey и слова marketers и strategy. Возможно, это связано с тем, что твиты, в которых обсуждаются рыночные взаимоотношения во время пандемии часто имели положительный окрас"
      ]
    },
    {
      "cell_type": "markdown",
      "metadata": {
        "id": "JVEuZm8BHms6"
      },
      "source": [
        "## Задание 4 Обучение первых моделей (1 балл)"
      ]
    },
    {
      "cell_type": "markdown",
      "metadata": {
        "id": "JADkO3sfXdOG"
      },
      "source": [
        "Примените оба векторайзера для получения матриц с признаками текстов.  Выделите целевую переменную."
      ]
    },
    {
      "cell_type": "code",
      "execution_count": 434,
      "metadata": {
        "id": "DguoiXhCX2oN"
      },
      "outputs": [],
      "source": [
        "X_train_cv = cv.transform(train.OriginalTweet)\n",
        "X_train_tfidf = tfidfv.transform(train.OriginalTweet)\n",
        "X_test_cv = cv.transform(test.OriginalTweet)\n",
        "X_test_tfidf = tfidfv.transform(test.OriginalTweet)\n",
        "y_train = train.Sentiment\n",
        "y_test = test.Sentiment"
      ]
    },
    {
      "cell_type": "code",
      "execution_count": 435,
      "metadata": {},
      "outputs": [
        {
          "data": {
            "text/plain": [
              "<23410x45308 sparse matrix of type '<class 'numpy.int64'>'\n",
              "\twith 444102 stored elements in Compressed Sparse Row format>"
            ]
          },
          "execution_count": 435,
          "metadata": {},
          "output_type": "execute_result"
        }
      ],
      "source": [
        "X_train_cv"
      ]
    },
    {
      "cell_type": "code",
      "execution_count": 436,
      "metadata": {},
      "outputs": [
        {
          "data": {
            "text/plain": [
              "<23410x45308 sparse matrix of type '<class 'numpy.float64'>'\n",
              "\twith 444102 stored elements in Compressed Sparse Row format>"
            ]
          },
          "execution_count": 436,
          "metadata": {},
          "output_type": "execute_result"
        }
      ],
      "source": [
        "X_train_tfidf"
      ]
    },
    {
      "cell_type": "markdown",
      "metadata": {
        "id": "_FX1KSOfYSx4"
      },
      "source": [
        "Обучите логистическую регрессию на векторах из обоих векторайзеров. Посчитайте долю правильных ответов на обучающих и тестовых данных. Какой векторайзер показал лучший результат? Что можно сказать о моделях?"
      ]
    },
    {
      "cell_type": "code",
      "execution_count": 437,
      "metadata": {
        "id": "-Tb3eh8UXJ6v"
      },
      "outputs": [],
      "source": [
        "from sklearn.linear_model import LogisticRegression\n",
        "from sklearn.metrics import accuracy_score\n",
        "\n",
        "random_state = 15\n",
        "model_cv = LogisticRegression(random_state=random_state).fit(X_train_cv, y_train)\n",
        "model_tfidf = LogisticRegression(random_state=random_state).fit(X_train_tfidf, y_train)"
      ]
    },
    {
      "cell_type": "code",
      "execution_count": 438,
      "metadata": {},
      "outputs": [
        {
          "name": "stdout",
          "output_type": "stream",
          "text": [
            "Accuracy of CountVectorizer on train:\n",
            "0.984280222127296\n"
          ]
        }
      ],
      "source": [
        "print(f\"Accuracy of CountVectorizer on train:\\n{accuracy_score(y_train, model_cv.predict(X_train_cv))}\")"
      ]
    },
    {
      "cell_type": "code",
      "execution_count": 439,
      "metadata": {},
      "outputs": [
        {
          "name": "stdout",
          "output_type": "stream",
          "text": [
            "Accuracy of CountVectorizer on test:\n",
            "0.8673510065776361\n"
          ]
        }
      ],
      "source": [
        "print(f\"Accuracy of CountVectorizer on test:\\n{accuracy_score(y_test, model_cv.predict(X_test_cv))}\")"
      ]
    },
    {
      "cell_type": "code",
      "execution_count": 440,
      "metadata": {},
      "outputs": [
        {
          "name": "stdout",
          "output_type": "stream",
          "text": [
            "Accuracy of TfidfVectorizer on train:\n",
            "0.9244340025630072\n"
          ]
        }
      ],
      "source": [
        "print(f\"Accuracy of TfidfVectorizer on train:\\n{accuracy_score(y_train, model_tfidf.predict(X_train_tfidf))}\")"
      ]
    },
    {
      "cell_type": "code",
      "execution_count": 441,
      "metadata": {},
      "outputs": [
        {
          "name": "stdout",
          "output_type": "stream",
          "text": [
            "Accuracy of TfidfVectorizer on test:\n",
            "0.8534981064381104\n"
          ]
        }
      ],
      "source": [
        "print(f\"Accuracy of TfidfVectorizer on test:\\n{accuracy_score(y_test, model_tfidf.predict(X_test_tfidf))}\")"
      ]
    },
    {
      "cell_type": "markdown",
      "metadata": {
        "id": "8y_wO7rCmv7K"
      },
      "source": [
        "**Ответ:** CountVectorizer показывает результат лучше, чем TfidfVectorizer, на трейне и на тесте. Возможно, это связано с тем, что TfidfVectorizer переобучился."
      ]
    },
    {
      "cell_type": "markdown",
      "metadata": {
        "id": "rSOR1i3mjrys"
      },
      "source": [
        "## Задание 5 Стемминг (0.5 балла)"
      ]
    },
    {
      "cell_type": "markdown",
      "metadata": {
        "id": "i6ONBWNPjuq-"
      },
      "source": [
        "Для уменьшения словаря можно использовать стемминг.\n",
        "\n",
        "Модифицируйте написанный токенайзер, добавив в него стемминг с использованием SnowballStemmer. Обучите Count- и Tfidf- векторайзеры. Как изменился размер словаря?"
      ]
    },
    {
      "cell_type": "code",
      "execution_count": 442,
      "metadata": {
        "id": "oVfA2-iMkQBb"
      },
      "outputs": [],
      "source": [
        "from nltk.stem import SnowballStemmer\n",
        "\n",
        "ENGLISH_STEMMER = SnowballStemmer(\"english\")\n",
        "def custom_stem_tokenizer(text: str) -> List[str]:\n",
        "    return list(map(ENGLISH_STEMMER.stem, custom_tokenizer(text)))\n"
      ]
    },
    {
      "cell_type": "code",
      "execution_count": 443,
      "metadata": {
        "colab": {
          "base_uri": "https://localhost:8080/"
        },
        "id": "9QmrjYtqnlPd",
        "outputId": "cd91291d-9676-4611-9fc4-28afaed58963"
      },
      "outputs": [
        {
          "data": {
            "text/plain": [
              "['sampl', 'text', '@sample_text', '#sampletext', 'ad', 'word', 'check', 'stem']"
            ]
          },
          "execution_count": 443,
          "metadata": {},
          "output_type": "execute_result"
        }
      ],
      "source": [
        "custom_stem_tokenizer('This is sample text!!!! @Sample_text I, \\x92\\x92 https://t.co/sample  #sampletext adding more words to check stemming')"
      ]
    },
    {
      "cell_type": "code",
      "execution_count": 444,
      "metadata": {
        "colab": {
          "base_uri": "https://localhost:8080/"
        },
        "id": "zAvUTmaplzOS",
        "outputId": "566207fe-183b-4ed6-d333-f86f0cc9ae38"
      },
      "outputs": [
        {
          "name": "stderr",
          "output_type": "stream",
          "text": [
            "e:\\Programs\\anaconda3\\Lib\\site-packages\\sklearn\\feature_extraction\\text.py:525: UserWarning: The parameter 'token_pattern' will not be used since 'tokenizer' is not None'\n",
            "  warnings.warn(\n"
          ]
        },
        {
          "name": "stdout",
          "output_type": "stream",
          "text": [
            "36652\n"
          ]
        }
      ],
      "source": [
        "cv = CountVectorizer(tokenizer=custom_stem_tokenizer).fit(train.OriginalTweet)\n",
        "print(len(cv.vocabulary_))"
      ]
    },
    {
      "cell_type": "code",
      "execution_count": 445,
      "metadata": {},
      "outputs": [],
      "source": [
        "from sklearn.feature_extraction.text import TfidfVectorizer\n",
        "\n",
        "tfidfv = TfidfVectorizer(tokenizer=custom_stem_tokenizer).fit(train.OriginalTweet)\n",
        "assert len(tfidfv.vocabulary_) == len(cv.vocabulary_)"
      ]
    },
    {
      "cell_type": "markdown",
      "metadata": {
        "id": "Oyzs5TaAoHP6"
      },
      "source": [
        "**Ответ:** размер словаря уменьшился примерно в 1.232 раза по сравнению с использованием custom_stem_tokenizer"
      ]
    },
    {
      "cell_type": "markdown",
      "metadata": {
        "id": "1OkncHI8oRmd"
      },
      "source": [
        "Обучите логистическую регрессию с использованием обоих векторайзеров. Изменилось ли качество? Есть ли смысл применять стемминг?"
      ]
    },
    {
      "cell_type": "code",
      "execution_count": 446,
      "metadata": {},
      "outputs": [],
      "source": [
        "X_train_cv = cv.transform(train.OriginalTweet)\n",
        "X_train_tfidf = tfidfv.transform(train.OriginalTweet)\n",
        "X_test_cv = cv.transform(test.OriginalTweet)\n",
        "X_test_tfidf = tfidfv.transform(test.OriginalTweet)"
      ]
    },
    {
      "cell_type": "code",
      "execution_count": 447,
      "metadata": {
        "id": "ykZJPphEoZ5W"
      },
      "outputs": [],
      "source": [
        "model_cv = LogisticRegression(random_state=random_state).fit(X_train_cv, y_train)\n",
        "model_tfidf = LogisticRegression(random_state=random_state).fit(X_train_tfidf, y_train)"
      ]
    },
    {
      "cell_type": "code",
      "execution_count": 448,
      "metadata": {},
      "outputs": [
        {
          "name": "stdout",
          "output_type": "stream",
          "text": [
            "Accuracy of CountVectorizer on train:\n",
            "0.9716787697565143\n"
          ]
        }
      ],
      "source": [
        "print(f\"Accuracy of CountVectorizer on train:\\n{accuracy_score(y_train, model_cv.predict(X_train_cv))}\")"
      ]
    },
    {
      "cell_type": "code",
      "execution_count": 449,
      "metadata": {},
      "outputs": [
        {
          "name": "stdout",
          "output_type": "stream",
          "text": [
            "Accuracy of CountVectorizer on test:\n",
            "0.8669523619693044\n"
          ]
        }
      ],
      "source": [
        "print(f\"Accuracy of CountVectorizer on test:\\n{accuracy_score(y_test, model_cv.predict(X_test_cv))}\")"
      ]
    },
    {
      "cell_type": "code",
      "execution_count": 450,
      "metadata": {},
      "outputs": [
        {
          "name": "stdout",
          "output_type": "stream",
          "text": [
            "Accuracy of TfidfVectorizer on train:\n",
            "0.9152071764203332\n"
          ]
        }
      ],
      "source": [
        "print(f\"Accuracy of TfidfVectorizer on train:\\n{accuracy_score(y_train, model_tfidf.predict(X_train_tfidf))}\")"
      ]
    },
    {
      "cell_type": "code",
      "execution_count": 451,
      "metadata": {},
      "outputs": [
        {
          "name": "stdout",
          "output_type": "stream",
          "text": [
            "Accuracy of TfidfVectorizer on test:\n",
            "0.8567869244568467\n"
          ]
        }
      ],
      "source": [
        "print(f\"Accuracy of TfidfVectorizer on test:\\n{accuracy_score(y_test, model_tfidf.predict(X_test_tfidf))}\")"
      ]
    },
    {
      "cell_type": "markdown",
      "metadata": {
        "id": "bCRlrODro0h8"
      },
      "source": [
        "**Ответ:** при применении стемминга у CountVectorized доли верных ответов на трейне и тесте немного упали, а для TfidfVectorizer доля верных ответов немного уменьшилась на трейне и немного увеличилась на тесте. Возможно, это связяно с тем, что модели меньше подстраиваются по выборку (матрицу коэффициентов, полученных при векторизации текстов)"
      ]
    },
    {
      "cell_type": "markdown",
      "metadata": {
        "id": "hYWGQNEDqLC-"
      },
      "source": [
        "## Задание  6 Работа с частотами (1.5 балла)"
      ]
    },
    {
      "cell_type": "markdown",
      "metadata": {
        "id": "8Hq-tl5mqUSn"
      },
      "source": [
        "Еще один способ уменьшить количество признаков - это использовать параметры min_df и max_df при построении векторайзера  эти параметры помогают ограничить требуемую частоту встречаемости токена в документах.\n",
        "\n",
        "По умолчанию берутся все токены, которые встретились хотя бы один раз.\n",
        "\n"
      ]
    },
    {
      "cell_type": "markdown",
      "metadata": {
        "id": "m1SiD4DE3WZ2"
      },
      "source": [
        "Подберите max_df такой, что размер словаря будет 36651 (на 1 меньше, чем было). Почему параметр получился такой большой/маленький?"
      ]
    },
    {
      "cell_type": "code",
      "execution_count": 452,
      "metadata": {
        "colab": {
          "base_uri": "https://localhost:8080/"
        },
        "id": "o3YLb8PViExb",
        "outputId": "b6d67654-d232-4e11-a5ca-6f2145053e98"
      },
      "outputs": [
        {
          "name": "stderr",
          "output_type": "stream",
          "text": [
            "e:\\Programs\\anaconda3\\Lib\\site-packages\\sklearn\\feature_extraction\\text.py:525: UserWarning: The parameter 'token_pattern' will not be used since 'tokenizer' is not None'\n",
            "  warnings.warn(\n"
          ]
        },
        {
          "name": "stdout",
          "output_type": "stream",
          "text": [
            "36651\n"
          ]
        }
      ],
      "source": [
        "cv_df = CountVectorizer(tokenizer=custom_stem_tokenizer, max_df=8580).fit(train.OriginalTweet)\n",
        "print(len(cv_df.vocabulary_))"
      ]
    },
    {
      "cell_type": "markdown",
      "metadata": {
        "id": "UdZYoGZR4UsA"
      },
      "source": [
        "**Ответ:** Возможно, это связано с тем, что есть тег, связанный с коронавирусом, который часто повторяется в твитах (и его частота много больше других частот)"
      ]
    },
    {
      "cell_type": "markdown",
      "metadata": {
        "id": "_gRIUaB1u32f"
      },
      "source": [
        "Подберите min_df (используйте дефолтное значение max_df) в CountVectorizer таким образом, чтобы размер словаря был 3700 токенов (при использовании токенайзера со стеммингом), а качество осталось таким же, как и было. Что можно сказать о результатах?"
      ]
    },
    {
      "cell_type": "code",
      "execution_count": 453,
      "metadata": {
        "colab": {
          "base_uri": "https://localhost:8080/"
        },
        "id": "kSnMJkn9XmsT",
        "outputId": "e0d8eb21-e5d7-46b4-e1d1-4b1ae220e9a0"
      },
      "outputs": [
        {
          "name": "stderr",
          "output_type": "stream",
          "text": [
            "e:\\Programs\\anaconda3\\Lib\\site-packages\\sklearn\\feature_extraction\\text.py:525: UserWarning: The parameter 'token_pattern' will not be used since 'tokenizer' is not None'\n",
            "  warnings.warn(\n"
          ]
        },
        {
          "name": "stdout",
          "output_type": "stream",
          "text": [
            "3700\n"
          ]
        }
      ],
      "source": [
        "min_df = 11\n",
        "cv_df = CountVectorizer(tokenizer=custom_stem_tokenizer, min_df=min_df).fit(train.OriginalTweet)\n",
        "print(len(cv_df.vocabulary_))"
      ]
    },
    {
      "cell_type": "code",
      "execution_count": 454,
      "metadata": {
        "id": "mvMDwpdfjm8Y"
      },
      "outputs": [],
      "source": [
        "X_train_cv_df = cv_df.transform(train.OriginalTweet)\n",
        "X_test_cv_df = cv_df.transform(test.OriginalTweet)"
      ]
    },
    {
      "cell_type": "code",
      "execution_count": 455,
      "metadata": {},
      "outputs": [],
      "source": [
        "model_cv_df = LogisticRegression(random_state=random_state).fit(X_train_cv_df, y_train)"
      ]
    },
    {
      "cell_type": "code",
      "execution_count": 456,
      "metadata": {},
      "outputs": [
        {
          "name": "stdout",
          "output_type": "stream",
          "text": [
            "Accuracy of CountVectorizer(min_df=11) on train:\n",
            "0.9285775309696711\n"
          ]
        }
      ],
      "source": [
        "print(f\"Accuracy of CountVectorizer(min_df={min_df}) on train:\\n{accuracy_score(y_train, model_cv_df.predict(X_train_cv_df))}\")"
      ]
    },
    {
      "cell_type": "code",
      "execution_count": 457,
      "metadata": {},
      "outputs": [
        {
          "name": "stdout",
          "output_type": "stream",
          "text": [
            "Accuracy of CountVectorizer(min_df=11) on test:\n",
            "0.8684472792505481\n"
          ]
        }
      ],
      "source": [
        "print(f\"Accuracy of CountVectorizer(min_df={min_df}) on test:\\n{accuracy_score(y_test, model_cv_df.predict(X_test_cv_df))}\")"
      ]
    },
    {
      "cell_type": "markdown",
      "metadata": {
        "id": "3fGYpUIZx0fk"
      },
      "source": [
        "**Ответ:** получившийся порог означает, что большинство токенов встречаются в текстах не более, чем 10 раз. При этом, доля верных ответов на обучающей выборке снова упала, а на тестовой стала больше, чем в двух предыдущих случаях. Возможно, убрав из текстов большое количество слов, которые редко встречаются, модель стала намного меньше подгоняться под выборку и улучшилась её обобщающая способность"
      ]
    },
    {
      "cell_type": "markdown",
      "metadata": {
        "id": "Gx_h_-inKbBl"
      },
      "source": [
        "В предыдущих заданиях признаки не скалировались. Отскалируйте данные (при словаре размера 3.7 тысяч, векторизованные CountVectorizer), обучите логистическую регрессию, посмотрите качество и выведите `berplot` содержащий по 10 токенов, с наибольшим по модулю положительными/отрицательными весами. Что можно сказать об этих токенах?"
      ]
    },
    {
      "cell_type": "code",
      "execution_count": 458,
      "metadata": {
        "id": "KBATXJX6LG9q"
      },
      "outputs": [],
      "source": [
        "from sklearn.preprocessing import StandardScaler\n",
        "\n",
        "cv_df_train_orig_tweet_transform = cv_df.transform(train.OriginalTweet)\n",
        "# with_mean=False because matrices are sparse\n",
        "scaler = StandardScaler(with_mean=False)\n",
        "X_train_cv_df = scaler.fit_transform(cv_df_train_orig_tweet_transform)\n",
        "X_test_cv_df = scaler.fit_transform(cv_df.transform(test.OriginalTweet))"
      ]
    },
    {
      "cell_type": "code",
      "execution_count": 459,
      "metadata": {},
      "outputs": [],
      "source": [
        "model_cv_df = LogisticRegression(random_state=random_state).fit(X_train_cv_df, y_train)"
      ]
    },
    {
      "cell_type": "code",
      "execution_count": 460,
      "metadata": {},
      "outputs": [
        {
          "name": "stdout",
          "output_type": "stream",
          "text": [
            "Accuracy of CountVectorizer(min_df=11) on train:\n",
            "0.9417343015805212\n"
          ]
        }
      ],
      "source": [
        "print(f\"Accuracy of CountVectorizer(min_df={min_df}) on train:\\n{accuracy_score(y_train, model_cv_df.predict(X_train_cv_df))}\")"
      ]
    },
    {
      "cell_type": "code",
      "execution_count": 461,
      "metadata": {},
      "outputs": [
        {
          "name": "stdout",
          "output_type": "stream",
          "text": [
            "Accuracy of CountVectorizer(min_df=11) on test:\n",
            "0.8463225034881403\n"
          ]
        }
      ],
      "source": [
        "print(f\"Accuracy of CountVectorizer(min_df={min_df}) on test:\\n{accuracy_score(y_test, model_cv_df.predict(X_test_cv_df))}\")"
      ]
    },
    {
      "cell_type": "code",
      "execution_count": 462,
      "metadata": {},
      "outputs": [
        {
          "data": {
            "image/png": "[encoded data removed]",
            "text/plain": [
              "<Figure size 1600x500 with 2 Axes>"
            ]
          },
          "metadata": {},
          "output_type": "display_data"
        }
      ],
      "source": [
        "model_df = pd.DataFrame({\n",
        "    \"x\": cv_df.get_feature_names_out(),\n",
        "    \"y\": model_cv_df.coef_[0]\n",
        "})\n",
        "model_df.sort_values(by=\"y\", inplace=True, ascending=False)\n",
        "top_ten = model_df.head(10).copy()\n",
        "last_ten = model_df.tail(10).copy()\n",
        "\n",
        "fig = plt.figure(figsize=(16, 5))\n",
        "fig.suptitle(\"Top 10 tokens with positive/negative coefficients\", fontsize=14, fontweight=\"demibold\")\n",
        "gs = fig.add_gridspec(nrows=1,\n",
        "                      ncols=2,\n",
        "                      width_ratios=(1, 1),\n",
        "                      wspace=0.15,\n",
        "                      hspace=0.05)\n",
        "ax_pos = fig.add_subplot(gs[0, 0])\n",
        "ax_neg = fig.add_subplot(gs[0, 1])\n",
        "\n",
        "sns.barplot(x=top_ten.x, y=top_ten.y, ax=ax_pos)\n",
        "ax_pos.set_title(\"Top 10 tokens with positive coefficients\")\n",
        "ax_pos.set_xlabel(\"Token\")\n",
        "ax_pos.set_ylabel(\"Coefficient\")\n",
        "sns.barplot(x=last_ten.x, y=last_ten.y, ax=ax_neg)\n",
        "ax_neg.set_title(\"Top 10 tokens with negative coefficients\")\n",
        "ax_neg.set_xlabel(\"Token\")\n",
        "ax_neg.set_ylabel(\"Coefficient\")\n",
        "ax_neg.yaxis.tick_right()\n",
        "ax_neg.invert_yaxis()\n",
        "plt.show()"
      ]
    },
    {
      "cell_type": "markdown",
      "metadata": {
        "id": "ThcEfzY1LHET"
      },
      "source": [
        "**Ответ:** из графиков видно, что слова best, free, super, enjoy и т.д., выражающие положительные с точки зрения человека вещи, имеют бОльшие положительные коэффициенты (следовательно, модель с большей вероятностью выдаст 1 на таком тексте), и наоборот, слова worst, danger, kill, fail, scam и т.д., выражающие негативные с точки зрения человека вещи, имеют бОльшие по модулю отрицательные коэффициенты, и модель с большей вероятностью выдаст 0 на таком тексте"
      ]
    },
    {
      "cell_type": "markdown",
      "metadata": {
        "id": "ktJVOdrIHq7B"
      },
      "source": [
        "## Задание 7 Другие признаки (1.5 балла)"
      ]
    },
    {
      "cell_type": "markdown",
      "metadata": {
        "id": "Yt3jRCZ2H0Og"
      },
      "source": [
        "Мы были сконцентрированы на работе с текстами твиттов и не использовали другие признаки - имена пользователя, дату и местоположение"
      ]
    },
    {
      "cell_type": "markdown",
      "metadata": {
        "id": "52wjewCCo_di"
      },
      "source": [
        "Изучите признаки UserName и ScreenName. полезны ли они? Если полезны, то закодируйте их, добавьте к матрице с отскалированными признаками, обучите логистическую регрессию, замерьте качество."
      ]
    },
    {
      "cell_type": "markdown",
      "metadata": {},
      "source": [
        "Судя по датасету, UserName и ScreenName - случайно назначенные числа относительно текста твита, однако между ними есть связь:"
      ]
    },
    {
      "cell_type": "code",
      "execution_count": 463,
      "metadata": {},
      "outputs": [
        {
          "data": {
            "text/html": [
              "<div>\n",
              "<style scoped>\n",
              "    .dataframe tbody tr th:only-of-type {\n",
              "        vertical-align: middle;\n",
              "    }\n",
              "\n",
              "    .dataframe tbody tr th {\n",
              "        vertical-align: top;\n",
              "    }\n",
              "\n",
              "    .dataframe thead th {\n",
              "        text-align: right;\n",
              "    }\n",
              "</style>\n",
              "<table border=\"1\" class=\"dataframe\">\n",
              "  <thead>\n",
              "    <tr style=\"text-align: right;\">\n",
              "      <th></th>\n",
              "      <th>UserName</th>\n",
              "      <th>ScreenName</th>\n",
              "      <th>Location</th>\n",
              "      <th>TweetAt</th>\n",
              "      <th>OriginalTweet</th>\n",
              "      <th>Sentiment</th>\n",
              "    </tr>\n",
              "  </thead>\n",
              "  <tbody>\n",
              "    <tr>\n",
              "      <th>0</th>\n",
              "      <td>3800</td>\n",
              "      <td>48752</td>\n",
              "      <td>UK</td>\n",
              "      <td>16-03-2020</td>\n",
              "      <td>advice Talk to your neighbours family to excha...</td>\n",
              "      <td>True</td>\n",
              "    </tr>\n",
              "    <tr>\n",
              "      <th>1</th>\n",
              "      <td>3801</td>\n",
              "      <td>48753</td>\n",
              "      <td>Vagabonds</td>\n",
              "      <td>16-03-2020</td>\n",
              "      <td>Coronavirus Australia: Woolworths to give elde...</td>\n",
              "      <td>True</td>\n",
              "    </tr>\n",
              "    <tr>\n",
              "      <th>33442</th>\n",
              "      <td>44953</td>\n",
              "      <td>89905</td>\n",
              "      <td>Unknown</td>\n",
              "      <td>14-04-2020</td>\n",
              "      <td>You know itÃÂs getting tough when @KameronWi...</td>\n",
              "      <td>True</td>\n",
              "    </tr>\n",
              "    <tr>\n",
              "      <th>33443</th>\n",
              "      <td>44955</td>\n",
              "      <td>89907</td>\n",
              "      <td>i love you so much || he/him</td>\n",
              "      <td>14-04-2020</td>\n",
              "      <td>@TartiiCat Well new/used Rift S are going for ...</td>\n",
              "      <td>False</td>\n",
              "    </tr>\n",
              "  </tbody>\n",
              "</table>\n",
              "</div>"
            ],
            "text/plain": [
              "       UserName  ScreenName                      Location     TweetAt  \\\n",
              "0          3800       48752                            UK  16-03-2020   \n",
              "1          3801       48753                     Vagabonds  16-03-2020   \n",
              "33442     44953       89905                       Unknown  14-04-2020   \n",
              "33443     44955       89907  i love you so much || he/him  14-04-2020   \n",
              "\n",
              "                                           OriginalTweet  Sentiment  \n",
              "0      advice Talk to your neighbours family to excha...       True  \n",
              "1      Coronavirus Australia: Woolworths to give elde...       True  \n",
              "33442  You know itÃÂs getting tough when @KameronWi...       True  \n",
              "33443  @TartiiCat Well new/used Rift S are going for ...      False  "
            ]
          },
          "execution_count": 463,
          "metadata": {},
          "output_type": "execute_result"
        }
      ],
      "source": [
        "pd.concat((df.head(2), df.tail(2)), axis=0)"
      ]
    },
    {
      "cell_type": "code",
      "execution_count": 464,
      "metadata": {},
      "outputs": [],
      "source": [
        "assert all(df.UserName - df.ScreenName == -44952)"
      ]
    },
    {
      "cell_type": "code",
      "execution_count": 465,
      "metadata": {
        "id": "63thouYZptj6"
      },
      "outputs": [
        {
          "data": {
            "text/html": [
              "<style type=\"text/css\">\n",
              "#T_f89d0_row0_col0, #T_f89d0_row0_col1, #T_f89d0_row1_col0, #T_f89d0_row1_col1, #T_f89d0_row2_col2 {\n",
              "  background-color: #b40426;\n",
              "  color: #f1f1f1;\n",
              "}\n",
              "#T_f89d0_row0_col2, #T_f89d0_row1_col2, #T_f89d0_row2_col0, #T_f89d0_row2_col1 {\n",
              "  background-color: #3b4cc0;\n",
              "  color: #f1f1f1;\n",
              "}\n",
              "</style>\n",
              "<table id=\"T_f89d0\">\n",
              "  <thead>\n",
              "    <tr>\n",
              "      <th class=\"blank level0\" >&nbsp;</th>\n",
              "      <th id=\"T_f89d0_level0_col0\" class=\"col_heading level0 col0\" >UserName</th>\n",
              "      <th id=\"T_f89d0_level0_col1\" class=\"col_heading level0 col1\" >ScreenName</th>\n",
              "      <th id=\"T_f89d0_level0_col2\" class=\"col_heading level0 col2\" >Sentiment</th>\n",
              "    </tr>\n",
              "  </thead>\n",
              "  <tbody>\n",
              "    <tr>\n",
              "      <th id=\"T_f89d0_level0_row0\" class=\"row_heading level0 row0\" >UserName</th>\n",
              "      <td id=\"T_f89d0_row0_col0\" class=\"data row0 col0\" >1.000000</td>\n",
              "      <td id=\"T_f89d0_row0_col1\" class=\"data row0 col1\" >1.000000</td>\n",
              "      <td id=\"T_f89d0_row0_col2\" class=\"data row0 col2\" >0.050988</td>\n",
              "    </tr>\n",
              "    <tr>\n",
              "      <th id=\"T_f89d0_level0_row1\" class=\"row_heading level0 row1\" >ScreenName</th>\n",
              "      <td id=\"T_f89d0_row1_col0\" class=\"data row1 col0\" >1.000000</td>\n",
              "      <td id=\"T_f89d0_row1_col1\" class=\"data row1 col1\" >1.000000</td>\n",
              "      <td id=\"T_f89d0_row1_col2\" class=\"data row1 col2\" >0.050988</td>\n",
              "    </tr>\n",
              "    <tr>\n",
              "      <th id=\"T_f89d0_level0_row2\" class=\"row_heading level0 row2\" >Sentiment</th>\n",
              "      <td id=\"T_f89d0_row2_col0\" class=\"data row2 col0\" >0.050988</td>\n",
              "      <td id=\"T_f89d0_row2_col1\" class=\"data row2 col1\" >0.050988</td>\n",
              "      <td id=\"T_f89d0_row2_col2\" class=\"data row2 col2\" >1.000000</td>\n",
              "    </tr>\n",
              "  </tbody>\n",
              "</table>\n"
            ],
            "text/plain": [
              "<pandas.io.formats.style.Styler at 0x20330232650>"
            ]
          },
          "execution_count": 465,
          "metadata": {},
          "output_type": "execute_result"
        }
      ],
      "source": [
        "df[[\"UserName\", \"ScreenName\", \"Sentiment\"]].corr().style.background_gradient(cmap='coolwarm')"
      ]
    },
    {
      "cell_type": "markdown",
      "metadata": {},
      "source": [
        "Таким образом, даже если UserName или ScreenName и будет добавлен к матрице с признаками, добавлять другой признак не будет иметь смысла"
      ]
    },
    {
      "cell_type": "code",
      "execution_count": 466,
      "metadata": {},
      "outputs": [],
      "source": [
        "X_train_with_names = np.concatenate((\n",
        "    X_train_cv_df.toarray(),\n",
        "    StandardScaler().fit_transform(train[[\"UserName\", \"ScreenName\"]].to_numpy())\n",
        "), axis=1)"
      ]
    },
    {
      "cell_type": "code",
      "execution_count": 467,
      "metadata": {},
      "outputs": [
        {
          "data": {
            "text/plain": [
              "array([[ 0.        ,  0.        ,  0.        , ...,  0.        ,\n",
              "         0.92443746,  0.92443746],\n",
              "       [ 0.        ,  0.        ,  0.        , ...,  0.        ,\n",
              "         1.39925151,  1.39925151],\n",
              "       [ 0.        ,  0.        ,  0.        , ...,  0.        ,\n",
              "         1.26710153,  1.26710153],\n",
              "       ...,\n",
              "       [ 0.        ,  0.        ,  0.        , ...,  0.        ,\n",
              "         1.42786998,  1.42786998],\n",
              "       [ 0.        ,  0.        ,  0.        , ...,  0.        ,\n",
              "         0.46351178,  0.46351178],\n",
              "       [ 0.        ,  0.        ,  0.        , ...,  0.        ,\n",
              "        -1.43860628, -1.43860628]])"
            ]
          },
          "execution_count": 467,
          "metadata": {},
          "output_type": "execute_result"
        }
      ],
      "source": [
        "X_train_with_names"
      ]
    },
    {
      "cell_type": "code",
      "execution_count": 468,
      "metadata": {},
      "outputs": [],
      "source": [
        "X_test_with_names = np.concatenate((\n",
        "    X_test_cv_df.toarray(),\n",
        "    StandardScaler().fit_transform(test[[\"UserName\", \"ScreenName\"]].to_numpy())\n",
        "), axis=1)"
      ]
    },
    {
      "cell_type": "code",
      "execution_count": 469,
      "metadata": {},
      "outputs": [
        {
          "data": {
            "text/plain": [
              "array([[ 0.        ,  0.        ,  0.        , ...,  0.        ,\n",
              "         1.18178408,  1.18178408],\n",
              "       [ 0.        ,  0.        ,  0.        , ...,  0.        ,\n",
              "         0.31118276,  0.31118276],\n",
              "       [ 0.        ,  0.        ,  0.        , ...,  0.        ,\n",
              "         1.55731941,  1.55731941],\n",
              "       ...,\n",
              "       [ 0.        ,  0.        ,  0.        , ...,  0.        ,\n",
              "        -0.54045213, -0.54045213],\n",
              "       [ 0.        ,  0.        ,  0.        , ...,  0.        ,\n",
              "         0.44394778,  0.44394778],\n",
              "       [ 0.        ,  0.        ,  0.        , ...,  0.        ,\n",
              "         0.66370549,  0.66370549]])"
            ]
          },
          "execution_count": 469,
          "metadata": {},
          "output_type": "execute_result"
        }
      ],
      "source": [
        "X_test_with_names"
      ]
    },
    {
      "cell_type": "code",
      "execution_count": 470,
      "metadata": {},
      "outputs": [],
      "source": [
        "model_cv_df = LogisticRegression(random_state=random_state).fit(X_train_with_names, y_train)"
      ]
    },
    {
      "cell_type": "code",
      "execution_count": 471,
      "metadata": {},
      "outputs": [
        {
          "name": "stdout",
          "output_type": "stream",
          "text": [
            "Accuracy on train when names are added:\n",
            "0.9418197351559163\n"
          ]
        }
      ],
      "source": [
        "print(f\"Accuracy on train when names are added:\\n{accuracy_score(y_train, model_cv_df.predict(X_train_with_names))}\")"
      ]
    },
    {
      "cell_type": "code",
      "execution_count": 472,
      "metadata": {},
      "outputs": [
        {
          "name": "stdout",
          "output_type": "stream",
          "text": [
            "Accuracy on test when names are added:\n",
            "0.8463225034881403\n"
          ]
        }
      ],
      "source": [
        "print(f\"Accuracy on test when names are added:\\n{accuracy_score(y_test, model_cv_df.predict(X_test_with_names))}\")"
      ]
    },
    {
      "cell_type": "markdown",
      "metadata": {
        "id": "r8_qR-gnpT3a"
      },
      "source": [
        "**Ответ:** при добавлении имён, представленных псевдо случайно сгенерированными числами, качество не улучшается"
      ]
    },
    {
      "cell_type": "markdown",
      "metadata": {
        "id": "ythEcFSkt7y3"
      },
      "source": [
        "Изучите признак TweetAt в обучающей выборке: преобразуйте его к типу datetime и нарисуйте его гистограмму с разделением по цвету на оспнове целевой переменной. Полезен ли он? Если полезен, то закодируйте его, добавьте к матрице с отскалированными признаками, обучите логистическую регрессию, замерьте качество."
      ]
    },
    {
      "cell_type": "code",
      "execution_count": 473,
      "metadata": {
        "id": "Lxb_k0JLirNv"
      },
      "outputs": [
        {
          "data": {
            "text/plain": [
              "25621    06-04-2020\n",
              "30135    10-04-2020\n",
              "28899    09-04-2020\n",
              "5989     19-03-2020\n",
              "4367     18-03-2020\n",
              "            ...    \n",
              "20757    31-03-2020\n",
              "32103    13-04-2020\n",
              "30403    10-04-2020\n",
              "21243    01-04-2020\n",
              "2732     18-03-2020\n",
              "Name: TweetAt, Length: 23410, dtype: object"
            ]
          },
          "execution_count": 473,
          "metadata": {},
          "output_type": "execute_result"
        }
      ],
      "source": [
        "train.TweetAt"
      ]
    },
    {
      "cell_type": "code",
      "execution_count": 474,
      "metadata": {},
      "outputs": [
        {
          "data": {
            "text/plain": [
              "25621   2020-04-06\n",
              "30135   2020-04-10\n",
              "28899   2020-04-09\n",
              "5989    2020-03-19\n",
              "4367    2020-03-18\n",
              "           ...    \n",
              "20757   2020-03-31\n",
              "32103   2020-04-13\n",
              "30403   2020-04-10\n",
              "21243   2020-04-01\n",
              "2732    2020-03-18\n",
              "Name: TweetAt, Length: 23410, dtype: datetime64[ns]"
            ]
          },
          "execution_count": 474,
          "metadata": {},
          "output_type": "execute_result"
        }
      ],
      "source": [
        "train.TweetAt = pd.to_datetime(train.TweetAt, format=\"%d-%m-%Y\")\n",
        "test.TweetAt = pd.to_datetime(test.TweetAt, format=\"%d-%m-%Y\")\n",
        "train.TweetAt"
      ]
    },
    {
      "cell_type": "code",
      "execution_count": 475,
      "metadata": {},
      "outputs": [
        {
          "name": "stderr",
          "output_type": "stream",
          "text": [
            "e:\\Programs\\anaconda3\\Lib\\site-packages\\seaborn\\_oldcore.py:1119: FutureWarning: use_inf_as_na option is deprecated and will be removed in a future version. Convert inf values to NaN before operating instead.\n",
            "  with pd.option_context('mode.use_inf_as_na', True):\n",
            "e:\\Programs\\anaconda3\\Lib\\site-packages\\seaborn\\_oldcore.py:1075: FutureWarning: When grouping with a length-1 list-like, you will need to pass a length-1 tuple to get_group in a future version of pandas. Pass `(name,)` instead of `name` to silence this warning.\n",
            "  data_subset = grouped_data.get_group(pd_key)\n",
            "e:\\Programs\\anaconda3\\Lib\\site-packages\\seaborn\\_oldcore.py:1075: FutureWarning: When grouping with a length-1 list-like, you will need to pass a length-1 tuple to get_group in a future version of pandas. Pass `(name,)` instead of `name` to silence this warning.\n",
            "  data_subset = grouped_data.get_group(pd_key)\n"
          ]
        },
        {
          "data": {
            "text/plain": [
              "<Axes: xlabel='TweetAt', ylabel='Count'>"
            ]
          },
          "execution_count": 475,
          "metadata": {},
          "output_type": "execute_result"
        },
        {
          "data": {
            "image/png": "[encoded data removed]",
            "text/plain": [
              "<Figure size 1600x500 with 1 Axes>"
            ]
          },
          "metadata": {},
          "output_type": "display_data"
        }
      ],
      "source": [
        "fig, ax_tweet_time_hist = plt.subplots(figsize=(16, 5))\n",
        "sns.histplot(data=train,\n",
        "             x=\"TweetAt\",\n",
        "             hue=\"Sentiment\",\n",
        "             bins=35,\n",
        "             ax=ax_tweet_time_hist)"
      ]
    },
    {
      "cell_type": "markdown",
      "metadata": {},
      "source": [
        "Выделим 3 интервала: [17.03.2020; 20.03.2020], [21.03.2022; 26.03.2020] и [05.04.2020; 13.04.2020], а также день года, количество прошедших секунд с начала Unix эпохи, а также их синус и косинус:"
      ]
    },
    {
      "cell_type": "code",
      "execution_count": 476,
      "metadata": {},
      "outputs": [],
      "source": [
        "def get_time_info(df: pd.DataFrame):\n",
        "    new_df = pd.DataFrame({\n",
        "        # https://pandas.pydata.org/pandas-docs/stable/user_guide/timeseries.html#from-timestamps-to-epoch\n",
        "        \"UnixTimeScaled\": (df.TweetAt - pd.Timestamp(\"1970-01-01\")) // pd.Timedelta('1s')\n",
        "    }, index=df.index)\n",
        "    new_df[\"UnixTimeCos\"] = np.cos(new_df[\"UnixTimeScaled\"])\n",
        "    new_df[\"UnixTimeSin\"] = np.sin(new_df[\"UnixTimeScaled\"])\n",
        "    new_df[\"UnixTimeScaled\"] = StandardScaler().fit_transform(new_df[\"UnixTimeScaled\"].to_numpy().reshape(-1, 1))\n",
        "\n",
        "    boundaries = (\n",
        "        (pd.Timestamp(year=2020, month=3, day=17), pd.Timestamp(year=2020, month=3, day=20)),\n",
        "        (pd.Timestamp(year=2020, month=4, day=5), pd.Timestamp(year=2020, month=4, day=9)),\n",
        "        (pd.Timestamp(year=2020, month=4, day=10), pd.Timestamp(year=2020, month=4, day=13)),\n",
        "    )\n",
        "    from itertools import pairwise\n",
        "    for (l_b1, r_b1), (l_b2, r_b2) in pairwise(boundaries):\n",
        "        assert l_b1 <= r_b1 < l_b2 < r_b2\n",
        "    for i, (l_b, r_b) in enumerate(boundaries):\n",
        "        new_df[f\"Interval_{i+1}\"] = df.TweetAt.between(l_b, r_b)\n",
        "    new_df[\"DayOfYear\"] = df.TweetAt.apply(lambda t: t.day_of_year)\n",
        "    return new_df\n"
      ]
    },
    {
      "cell_type": "code",
      "execution_count": 477,
      "metadata": {},
      "outputs": [
        {
          "data": {
            "text/html": [
              "<div>\n",
              "<style scoped>\n",
              "    .dataframe tbody tr th:only-of-type {\n",
              "        vertical-align: middle;\n",
              "    }\n",
              "\n",
              "    .dataframe tbody tr th {\n",
              "        vertical-align: top;\n",
              "    }\n",
              "\n",
              "    .dataframe thead th {\n",
              "        text-align: right;\n",
              "    }\n",
              "</style>\n",
              "<table border=\"1\" class=\"dataframe\">\n",
              "  <thead>\n",
              "    <tr style=\"text-align: right;\">\n",
              "      <th></th>\n",
              "      <th>UnixTimeScaled</th>\n",
              "      <th>UnixTimeCos</th>\n",
              "      <th>UnixTimeSin</th>\n",
              "      <th>Interval_1</th>\n",
              "      <th>Interval_2</th>\n",
              "      <th>Interval_3</th>\n",
              "      <th>DayOfYear</th>\n",
              "    </tr>\n",
              "  </thead>\n",
              "  <tbody>\n",
              "    <tr>\n",
              "      <th>25621</th>\n",
              "      <td>1.039195</td>\n",
              "      <td>0.694918</td>\n",
              "      <td>-0.719089</td>\n",
              "      <td>False</td>\n",
              "      <td>True</td>\n",
              "      <td>False</td>\n",
              "      <td>97</td>\n",
              "    </tr>\n",
              "    <tr>\n",
              "      <th>30135</th>\n",
              "      <td>1.485504</td>\n",
              "      <td>0.429257</td>\n",
              "      <td>-0.903183</td>\n",
              "      <td>False</td>\n",
              "      <td>False</td>\n",
              "      <td>True</td>\n",
              "      <td>101</td>\n",
              "    </tr>\n",
              "    <tr>\n",
              "      <th>28899</th>\n",
              "      <td>1.373927</td>\n",
              "      <td>0.501065</td>\n",
              "      <td>-0.865410</td>\n",
              "      <td>False</td>\n",
              "      <td>True</td>\n",
              "      <td>False</td>\n",
              "      <td>100</td>\n",
              "    </tr>\n",
              "    <tr>\n",
              "      <th>5989</th>\n",
              "      <td>-0.969198</td>\n",
              "      <td>0.790989</td>\n",
              "      <td>0.611830</td>\n",
              "      <td>True</td>\n",
              "      <td>False</td>\n",
              "      <td>False</td>\n",
              "      <td>79</td>\n",
              "    </tr>\n",
              "    <tr>\n",
              "      <th>4367</th>\n",
              "      <td>-1.080775</td>\n",
              "      <td>0.738785</td>\n",
              "      <td>0.673941</td>\n",
              "      <td>True</td>\n",
              "      <td>False</td>\n",
              "      <td>False</td>\n",
              "      <td>78</td>\n",
              "    </tr>\n",
              "    <tr>\n",
              "      <th>...</th>\n",
              "      <td>...</td>\n",
              "      <td>...</td>\n",
              "      <td>...</td>\n",
              "      <td>...</td>\n",
              "      <td>...</td>\n",
              "      <td>...</td>\n",
              "      <td>...</td>\n",
              "    </tr>\n",
              "    <tr>\n",
              "      <th>20757</th>\n",
              "      <td>0.369730</td>\n",
              "      <td>0.950630</td>\n",
              "      <td>-0.310326</td>\n",
              "      <td>False</td>\n",
              "      <td>False</td>\n",
              "      <td>False</td>\n",
              "      <td>91</td>\n",
              "    </tr>\n",
              "    <tr>\n",
              "      <th>32103</th>\n",
              "      <td>1.820236</td>\n",
              "      <td>0.198858</td>\n",
              "      <td>-0.980028</td>\n",
              "      <td>False</td>\n",
              "      <td>False</td>\n",
              "      <td>True</td>\n",
              "      <td>104</td>\n",
              "    </tr>\n",
              "    <tr>\n",
              "      <th>30403</th>\n",
              "      <td>1.485504</td>\n",
              "      <td>0.429257</td>\n",
              "      <td>-0.903183</td>\n",
              "      <td>False</td>\n",
              "      <td>False</td>\n",
              "      <td>True</td>\n",
              "      <td>101</td>\n",
              "    </tr>\n",
              "    <tr>\n",
              "      <th>21243</th>\n",
              "      <td>0.481308</td>\n",
              "      <td>0.922343</td>\n",
              "      <td>-0.386373</td>\n",
              "      <td>False</td>\n",
              "      <td>False</td>\n",
              "      <td>False</td>\n",
              "      <td>92</td>\n",
              "    </tr>\n",
              "    <tr>\n",
              "      <th>2732</th>\n",
              "      <td>-1.080775</td>\n",
              "      <td>0.738785</td>\n",
              "      <td>0.673941</td>\n",
              "      <td>True</td>\n",
              "      <td>False</td>\n",
              "      <td>False</td>\n",
              "      <td>78</td>\n",
              "    </tr>\n",
              "  </tbody>\n",
              "</table>\n",
              "<p>23410 rows × 7 columns</p>\n",
              "</div>"
            ],
            "text/plain": [
              "       UnixTimeScaled  UnixTimeCos  UnixTimeSin  Interval_1  Interval_2  \\\n",
              "25621        1.039195     0.694918    -0.719089       False        True   \n",
              "30135        1.485504     0.429257    -0.903183       False       False   \n",
              "28899        1.373927     0.501065    -0.865410       False        True   \n",
              "5989        -0.969198     0.790989     0.611830        True       False   \n",
              "4367        -1.080775     0.738785     0.673941        True       False   \n",
              "...               ...          ...          ...         ...         ...   \n",
              "20757        0.369730     0.950630    -0.310326       False       False   \n",
              "32103        1.820236     0.198858    -0.980028       False       False   \n",
              "30403        1.485504     0.429257    -0.903183       False       False   \n",
              "21243        0.481308     0.922343    -0.386373       False       False   \n",
              "2732        -1.080775     0.738785     0.673941        True       False   \n",
              "\n",
              "       Interval_3  DayOfYear  \n",
              "25621       False         97  \n",
              "30135        True        101  \n",
              "28899       False        100  \n",
              "5989        False         79  \n",
              "4367        False         78  \n",
              "...           ...        ...  \n",
              "20757       False         91  \n",
              "32103        True        104  \n",
              "30403        True        101  \n",
              "21243       False         92  \n",
              "2732        False         78  \n",
              "\n",
              "[23410 rows x 7 columns]"
            ]
          },
          "execution_count": 477,
          "metadata": {},
          "output_type": "execute_result"
        }
      ],
      "source": [
        "train_time_info_df = get_time_info(train)\n",
        "train_time_info_df"
      ]
    },
    {
      "cell_type": "code",
      "execution_count": 478,
      "metadata": {},
      "outputs": [
        {
          "data": {
            "text/html": [
              "<div>\n",
              "<style scoped>\n",
              "    .dataframe tbody tr th:only-of-type {\n",
              "        vertical-align: middle;\n",
              "    }\n",
              "\n",
              "    .dataframe tbody tr th {\n",
              "        vertical-align: top;\n",
              "    }\n",
              "\n",
              "    .dataframe thead th {\n",
              "        text-align: right;\n",
              "    }\n",
              "</style>\n",
              "<table border=\"1\" class=\"dataframe\">\n",
              "  <thead>\n",
              "    <tr style=\"text-align: right;\">\n",
              "      <th></th>\n",
              "      <th>UnixTimeScaled</th>\n",
              "      <th>UnixTimeCos</th>\n",
              "      <th>UnixTimeSin</th>\n",
              "      <th>Interval_1</th>\n",
              "      <th>Interval_2</th>\n",
              "      <th>Interval_3</th>\n",
              "      <th>DayOfYear</th>\n",
              "    </tr>\n",
              "  </thead>\n",
              "  <tbody>\n",
              "    <tr>\n",
              "      <th>28168</th>\n",
              "      <td>1.248710</td>\n",
              "      <td>0.569574</td>\n",
              "      <td>-0.821940</td>\n",
              "      <td>False</td>\n",
              "      <td>True</td>\n",
              "      <td>False</td>\n",
              "      <td>99</td>\n",
              "    </tr>\n",
              "    <tr>\n",
              "      <th>19874</th>\n",
              "      <td>-0.201238</td>\n",
              "      <td>0.995929</td>\n",
              "      <td>0.090136</td>\n",
              "      <td>False</td>\n",
              "      <td>False</td>\n",
              "      <td>False</td>\n",
              "      <td>86</td>\n",
              "    </tr>\n",
              "    <tr>\n",
              "      <th>31702</th>\n",
              "      <td>1.694848</td>\n",
              "      <td>0.277654</td>\n",
              "      <td>-0.960681</td>\n",
              "      <td>False</td>\n",
              "      <td>False</td>\n",
              "      <td>True</td>\n",
              "      <td>103</td>\n",
              "    </tr>\n",
              "    <tr>\n",
              "      <th>5110</th>\n",
              "      <td>-0.981979</td>\n",
              "      <td>0.790989</td>\n",
              "      <td>0.611830</td>\n",
              "      <td>True</td>\n",
              "      <td>False</td>\n",
              "      <td>False</td>\n",
              "      <td>79</td>\n",
              "    </tr>\n",
              "    <tr>\n",
              "      <th>30081</th>\n",
              "      <td>1.471779</td>\n",
              "      <td>0.429257</td>\n",
              "      <td>-0.903183</td>\n",
              "      <td>False</td>\n",
              "      <td>False</td>\n",
              "      <td>True</td>\n",
              "      <td>101</td>\n",
              "    </tr>\n",
              "    <tr>\n",
              "      <th>...</th>\n",
              "      <td>...</td>\n",
              "      <td>...</td>\n",
              "      <td>...</td>\n",
              "      <td>...</td>\n",
              "      <td>...</td>\n",
              "      <td>...</td>\n",
              "      <td>...</td>\n",
              "    </tr>\n",
              "    <tr>\n",
              "      <th>5847</th>\n",
              "      <td>-0.981979</td>\n",
              "      <td>0.790989</td>\n",
              "      <td>0.611830</td>\n",
              "      <td>True</td>\n",
              "      <td>False</td>\n",
              "      <td>False</td>\n",
              "      <td>79</td>\n",
              "    </tr>\n",
              "    <tr>\n",
              "      <th>3220</th>\n",
              "      <td>-1.093514</td>\n",
              "      <td>0.738785</td>\n",
              "      <td>0.673941</td>\n",
              "      <td>True</td>\n",
              "      <td>False</td>\n",
              "      <td>False</td>\n",
              "      <td>78</td>\n",
              "    </tr>\n",
              "    <tr>\n",
              "      <th>11637</th>\n",
              "      <td>-0.758910</td>\n",
              "      <td>0.879468</td>\n",
              "      <td>0.475959</td>\n",
              "      <td>False</td>\n",
              "      <td>False</td>\n",
              "      <td>False</td>\n",
              "      <td>81</td>\n",
              "    </tr>\n",
              "    <tr>\n",
              "      <th>21149</th>\n",
              "      <td>0.467969</td>\n",
              "      <td>0.922343</td>\n",
              "      <td>-0.386373</td>\n",
              "      <td>False</td>\n",
              "      <td>False</td>\n",
              "      <td>False</td>\n",
              "      <td>92</td>\n",
              "    </tr>\n",
              "    <tr>\n",
              "      <th>23240</th>\n",
              "      <td>0.802572</td>\n",
              "      <td>0.801993</td>\n",
              "      <td>-0.597334</td>\n",
              "      <td>False</td>\n",
              "      <td>False</td>\n",
              "      <td>False</td>\n",
              "      <td>95</td>\n",
              "    </tr>\n",
              "  </tbody>\n",
              "</table>\n",
              "<p>10034 rows × 7 columns</p>\n",
              "</div>"
            ],
            "text/plain": [
              "       UnixTimeScaled  UnixTimeCos  UnixTimeSin  Interval_1  Interval_2  \\\n",
              "28168        1.248710     0.569574    -0.821940       False        True   \n",
              "19874       -0.201238     0.995929     0.090136       False       False   \n",
              "31702        1.694848     0.277654    -0.960681       False       False   \n",
              "5110        -0.981979     0.790989     0.611830        True       False   \n",
              "30081        1.471779     0.429257    -0.903183       False       False   \n",
              "...               ...          ...          ...         ...         ...   \n",
              "5847        -0.981979     0.790989     0.611830        True       False   \n",
              "3220        -1.093514     0.738785     0.673941        True       False   \n",
              "11637       -0.758910     0.879468     0.475959       False       False   \n",
              "21149        0.467969     0.922343    -0.386373       False       False   \n",
              "23240        0.802572     0.801993    -0.597334       False       False   \n",
              "\n",
              "       Interval_3  DayOfYear  \n",
              "28168       False         99  \n",
              "19874       False         86  \n",
              "31702        True        103  \n",
              "5110        False         79  \n",
              "30081        True        101  \n",
              "...           ...        ...  \n",
              "5847        False         79  \n",
              "3220        False         78  \n",
              "11637       False         81  \n",
              "21149       False         92  \n",
              "23240       False         95  \n",
              "\n",
              "[10034 rows x 7 columns]"
            ]
          },
          "execution_count": 478,
          "metadata": {},
          "output_type": "execute_result"
        }
      ],
      "source": [
        "test_time_info_df = get_time_info(test)\n",
        "test_time_info_df"
      ]
    },
    {
      "cell_type": "code",
      "execution_count": 484,
      "metadata": {},
      "outputs": [
        {
          "ename": "MemoryError",
          "evalue": "Unable to allocate 662. MiB for an array with shape (23410, 3707) and data type object",
          "output_type": "error",
          "traceback": [
            "\u001b[1;31m---------------------------------------------------------------------------\u001b[0m",
            "\u001b[1;31mMemoryError\u001b[0m                               Traceback (most recent call last)",
            "Cell \u001b[1;32mIn[484], line 1\u001b[0m\n\u001b[1;32m----> 1\u001b[0m X_train_with_time \u001b[38;5;241m=\u001b[39m np\u001b[38;5;241m.\u001b[39mconcatenate((\n\u001b[0;32m      2\u001b[0m     X_train_cv_df\u001b[38;5;241m.\u001b[39mtoarray(),\n\u001b[0;32m      3\u001b[0m     train_time_info_df\u001b[38;5;241m.\u001b[39mto_numpy(),\n\u001b[0;32m      4\u001b[0m ), axis\u001b[38;5;241m=\u001b[39m\u001b[38;5;241m1\u001b[39m)\n\u001b[0;32m      5\u001b[0m X_train_with_time\n",
            "\u001b[1;31mMemoryError\u001b[0m: Unable to allocate 662. MiB for an array with shape (23410, 3707) and data type object"
          ]
        }
      ],
      "source": [
        "X_train_with_time = np.concatenate((\n",
        "    X_train_cv_df.toarray(),\n",
        "    train_time_info_df.to_numpy(),\n",
        "), axis=1)\n",
        "X_train_with_time"
      ]
    },
    {
      "cell_type": "code",
      "execution_count": null,
      "metadata": {},
      "outputs": [
        {
          "data": {
            "text/plain": [
              "(23410, 3707)"
            ]
          },
          "execution_count": 362,
          "metadata": {},
          "output_type": "execute_result"
        }
      ],
      "source": [
        "X_train_with_time.shape"
      ]
    },
    {
      "cell_type": "code",
      "execution_count": null,
      "metadata": {},
      "outputs": [
        {
          "data": {
            "text/plain": [
              "array([[0.0, 0.0, 0.0, ..., True, False, 99],\n",
              "       [0.0, 0.0, 0.0, ..., False, False, 86],\n",
              "       [0.0, 0.0, 0.0, ..., False, True, 103],\n",
              "       ...,\n",
              "       [0.0, 0.0, 0.0, ..., False, False, 81],\n",
              "       [0.0, 0.0, 0.0, ..., False, False, 92],\n",
              "       [0.0, 0.0, 0.0, ..., False, False, 95]], dtype=object)"
            ]
          },
          "execution_count": 363,
          "metadata": {},
          "output_type": "execute_result"
        }
      ],
      "source": [
        "X_test_with_time = np.concatenate((\n",
        "    X_test_cv_df.toarray(),\n",
        "    test_time_info_df.to_numpy(),\n",
        "), axis=1)\n",
        "X_test_with_time"
      ]
    },
    {
      "cell_type": "code",
      "execution_count": null,
      "metadata": {},
      "outputs": [
        {
          "name": "stdout",
          "output_type": "stream",
          "text": [
            "Accuracy on train when tweet post time info is added:\n",
            "0.9416061512174284\n",
            "Accuracy on test when tweet post time info is added:\n",
            "0.8462228423360574\n"
          ]
        }
      ],
      "source": [
        "model_cv_df = LogisticRegression(random_state=random_state, max_iter=500, C=0.5).fit(X_train_with_time, y_train)\n",
        "print(f\"Accuracy on train when tweet post time info is added:\\n{accuracy_score(y_train, model_cv_df.predict(X_train_with_time))}\")\n",
        "print(f\"Accuracy on test when tweet post time info is added:\\n{accuracy_score(y_test, model_cv_df.predict(X_test_with_time))}\")"
      ]
    },
    {
      "cell_type": "markdown",
      "metadata": {
        "id": "4IdLBdpQxM-G"
      },
      "source": [
        "**Ответ:** # -- YOUR ANSWER HERE --\n",
        "\n"
      ]
    },
    {
      "cell_type": "markdown",
      "metadata": {
        "id": "r2JtRPhNP6qx"
      },
      "source": [
        "Поработайте с признаком Location в обучающей выборке. Сколько уникальных значений?"
      ]
    },
    {
      "cell_type": "code",
      "execution_count": null,
      "metadata": {
        "id": "xYQZQ1FRNpoe"
      },
      "outputs": [
        {
          "data": {
            "text/plain": [
              "7949"
            ]
          },
          "execution_count": 365,
          "metadata": {},
          "output_type": "execute_result"
        }
      ],
      "source": [
        "train.Location.nunique()"
      ]
    },
    {
      "cell_type": "markdown",
      "metadata": {
        "id": "6k4JwpRTQISa"
      },
      "source": [
        "Постройте гистограмму топ-10 по популярности местоположений (исключая Unknown)"
      ]
    },
    {
      "cell_type": "code",
      "execution_count": null,
      "metadata": {
        "id": "J91YkhegJ0mz"
      },
      "outputs": [
        {
          "data": {
            "image/png": "[encoded data removed]",
            "text/plain": [
              "<Figure size 1600x500 with 1 Axes>"
            ]
          },
          "metadata": {},
          "output_type": "display_data"
        }
      ],
      "source": [
        "loc_vc = train.Location.value_counts()\n",
        "loc_df = pd.DataFrame({\n",
        "    \"Location\": loc_vc.index,\n",
        "    \"Count\": loc_vc.values\n",
        "})\n",
        "loc_df.set_index(keys=\"Location\", drop=True, inplace=True)\n",
        "loc_df.drop(labels=\"Unknown\", axis=0, inplace=True)\n",
        "loc_df.sort_values(by=\"Count\", inplace=True, ascending=False)\n",
        "top_ten = loc_df.head(10)\n",
        "\n",
        "fig, ax = plt.subplots(figsize=(16, 5))\n",
        "fig.suptitle(\"Top 10 locations by frequency\", fontsize=14, fontweight=\"demibold\")\n",
        "sns.barplot(x=top_ten.index, y=top_ten.Count, ax=ax)\n",
        "ax.set_title(\"Top 10 locations by frequency\")\n",
        "ax.set_xlabel(\"Location\")\n",
        "ax.set_ylabel(\"Count\")\n",
        "plt.show()"
      ]
    },
    {
      "cell_type": "markdown",
      "metadata": {
        "id": "ZOsv3lODTfYB"
      },
      "source": [
        "Видно, что многие местоположения включают в себя более точное название места, чем другие (Например, у некоторых стоит London, UK; а у некоторых просто UK или United Kingdom).\n",
        "\n",
        "Создайте новый признак WiderLocation, который содержит самое широкое местоположение (например, из London, UK должно получиться UK). Сколько уникальных категорий теперь? Постройте аналогичную гистограмму."
      ]
    },
    {
      "cell_type": "code",
      "execution_count": null,
      "metadata": {
        "id": "mSkow6acOMyD"
      },
      "outputs": [],
      "source": [
        "def coder(loc: str):\n",
        "    loc = loc.lower()\n",
        "    if \"london\" in loc:\n",
        "        return \"uk\"\n",
        "    if \"new york\" in loc:\n",
        "        return \"ny\"\n",
        "    if \"united\" in loc:\n",
        "        return \"uk\" if \"kingdom\" in loc else \"us\"\n",
        "    if loc == \"usa\":\n",
        "        return \"us\"\n",
        "    if \"ca\" in loc:\n",
        "        return \"ca\"\n",
        "    if \"dc\" in loc:\n",
        "        return \"dc\"\n",
        "    if \"ontario\" in loc:\n",
        "        return \"ontario\"\n",
        "    if \"new delhi\" in loc:\n",
        "        return \"new delhi\"\n",
        "    return loc\n",
        "\n",
        "train[\"WiderLocation\"] = train.Location.apply(coder)"
      ]
    },
    {
      "cell_type": "code",
      "execution_count": null,
      "metadata": {},
      "outputs": [
        {
          "data": {
            "text/plain": [
              "6365"
            ]
          },
          "execution_count": 384,
          "metadata": {},
          "output_type": "execute_result"
        }
      ],
      "source": [
        "train[\"WiderLocation\"].nunique()"
      ]
    },
    {
      "cell_type": "code",
      "execution_count": null,
      "metadata": {},
      "outputs": [
        {
          "data": {
            "image/png": "[encoded data removed]",
            "text/plain": [
              "<Figure size 1600x500 with 1 Axes>"
            ]
          },
          "metadata": {},
          "output_type": "display_data"
        }
      ],
      "source": [
        "loc_vc = train.WiderLocation.value_counts()\n",
        "loc_df = pd.DataFrame({\n",
        "    \"Location\": loc_vc.index,\n",
        "    \"Count\": loc_vc.values\n",
        "})\n",
        "loc_df.set_index(keys=\"Location\", drop=True, inplace=True)\n",
        "loc_df.drop(labels=\"unknown\", axis=0, inplace=True)\n",
        "loc_df.sort_values(by=\"Count\", inplace=True, ascending=False)\n",
        "top_ten = loc_df.head(10)\n",
        "\n",
        "fig, ax = plt.subplots(figsize=(16, 5))\n",
        "fig.suptitle(\"Top 10 wider locations by frequency\", fontsize=14, fontweight=\"demibold\")\n",
        "sns.barplot(x=top_ten.index, y=top_ten.Count, ax=ax)\n",
        "ax.set_title(\"Top 10 wider locations by frequency\")\n",
        "ax.set_xlabel(\"Location\")\n",
        "ax.set_ylabel(\"Count\")\n",
        "plt.show()"
      ]
    },
    {
      "cell_type": "markdown",
      "metadata": {
        "id": "cgyWrD2eVfff"
      },
      "source": [
        "Закодируйте признак WiderLocation с помощью OHE таким образом, чтобы создались только столбцы для местоположений, которые встречаются более одного раза. Сколько таких значений?\n"
      ]
    },
    {
      "cell_type": "code",
      "execution_count": null,
      "metadata": {
        "id": "SeJBfBWgPvg_"
      },
      "outputs": [
        {
          "name": "stderr",
          "output_type": "stream",
          "text": [
            "C:\\Users\\Владимир\\AppData\\Local\\Temp\\ipykernel_10248\\1601594088.py:1: SettingWithCopyWarning: \n",
            "A value is trying to be set on a copy of a slice from a DataFrame.\n",
            "Try using .loc[row_indexer,col_indexer] = value instead\n",
            "\n",
            "See the caveats in the documentation: https://pandas.pydata.org/pandas-docs/stable/user_guide/indexing.html#returning-a-view-versus-a-copy\n",
            "  train[~train.WiderLocation.isin(loc_df[loc_df.Count > 1].index)].WiderLocation = np.nan\n"
          ]
        }
      ],
      "source": [
        "mask = ~train.WiderLocation.copy().isin(loc_df[loc_df.Count > 1].index)\n",
        "train[mask].WiderLocation = np.nan"
      ]
    },
    {
      "cell_type": "code",
      "execution_count": null,
      "metadata": {},
      "outputs": [],
      "source": [
        "pd.get_dummies(train)"
      ]
    },
    {
      "cell_type": "markdown",
      "metadata": {
        "id": "ZyMX5kZuimPK"
      },
      "source": [
        "Добавьте этот признак к матрице отскалированных текстовых признаков, обучите логистическую регрессию, замерьте качество. Как оно изменилось? Оказался ли признак полезным?\n",
        "\n",
        "\n",
        "*Подсказка:* используйте параметр `categories` в энкодере."
      ]
    },
    {
      "cell_type": "code",
      "execution_count": null,
      "metadata": {
        "id": "EO1jNPeeim7A"
      },
      "outputs": [],
      "source": [
        "# -- YOUR CODE HERE --"
      ]
    },
    {
      "cell_type": "markdown",
      "metadata": {
        "id": "7dHsGlDRYUQt"
      },
      "source": [
        "**Ответ:** # -- YOUR ANSWER HERE --"
      ]
    },
    {
      "cell_type": "markdown",
      "metadata": {
        "id": "IWn6h4W9eD3S"
      },
      "source": [
        "## Задание 8 Хорошее качество (Бонус 1 балл)"
      ]
    },
    {
      "cell_type": "markdown",
      "metadata": {
        "id": "-HDI0SU6eLgi"
      },
      "source": [
        "Добейтесь accuracy=0.9 на тестовой выборке (можно сменить токенайзер, векторайзер, модель и т.д.)"
      ]
    },
    {
      "cell_type": "code",
      "execution_count": null,
      "metadata": {
        "id": "k3WMbE8edhlW"
      },
      "outputs": [],
      "source": [
        "# -- YOUR CODE HERE --"
      ]
    }
  ],
  "metadata": {
    "colab": {
      "provenance": [],
      "toc_visible": true
    },
    "kernelspec": {
      "display_name": "Python 3",
      "name": "python3"
    },
    "language_info": {
      "codemirror_mode": {
        "name": "ipython",
        "version": 3
      },
      "file_extension": ".py",
      "mimetype": "text/x-python",
      "name": "python",
      "nbconvert_exporter": "python",
      "pygments_lexer": "ipython3",
      "version": "3.11.9"
    }
  },
  "nbformat": 4,
  "nbformat_minor": 0
}
